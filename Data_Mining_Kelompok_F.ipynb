{
  "nbformat": 4,
  "nbformat_minor": 0,
  "metadata": {
    "colab": {
      "name": "Data Mining_Kelompok_F.ipynb",
      "provenance": [],
      "collapsed_sections": [],
      "machine_shape": "hm"
    },
    "kernelspec": {
      "display_name": "Python 3",
      "name": "python3"
    }
  },
  "cells": [
    {
      "cell_type": "markdown",
      "metadata": {
        "id": "rUvIxZ7ZH1-y"
      },
      "source": [
        "Kelompok F : \n",
        "\n",
        "1. Alya Nadifa Putri (1806144342)\n",
        "2. Kinanti Jati Kinasih (1806144456)\n",
        "3. Ni Gusti Ayu Nyoman Anggraini L. (1806193350)\n",
        "4. Dian Karyoko (1806193735)\n",
        "5. Andi Renata Fadhillah (1806207841)\n",
        "6. Muhamad Alchem Nuravian Permana (1806207873)\n",
        "7. Anastasia Juniaty (1806208251)\n",
        "8. Gilang Laksana Prawira (1806232124) \n",
        " "
      ]
    },
    {
      "cell_type": "markdown",
      "metadata": {
        "id": "uAKcMiaJzwKs"
      },
      "source": [
        "Sumber data : https://www.kaggle.com/c/ashrae-energy-prediction/data"
      ]
    },
    {
      "cell_type": "markdown",
      "metadata": {
        "id": "5AHo0DVuzx3J"
      },
      "source": [
        "Problem : Apakah investment yang dilakukan untuk meningkatkan efisiensi gedung benar-benar efektif atau tidak (dapat mengurangi cost dan emission)?\n",
        "\n",
        "Untuk mencari tahu hal tersebut, akan dibandingkan pemakaian energi sebelum dan sesudah efisiensi. Akan tetapi, karena pemakaian energi sebelum efisiensi tidak diketahui, dibutuhkan model yang dapat memprediksi banyaknya energi yang digunakan (diwakilkan dengan variabel meter_reading) sebelum efisiensi gedung dilakukan. \n",
        "\n",
        "Dalam tugas ini akan dilakukan EDA untuk melihat variabel-variabel yang mungkin memengaruhi variabel meter_reading. Data diambil dari 1449 gedung di Amerika Serikat, Inggris, Kanada, dan lain-lain.\n",
        "\n",
        "**Objective : Mencari tahu variabel-variabel yang memengaruhi meter_reading dan mendapatkan insight sebanyak-banyaknya**"
      ]
    },
    {
      "cell_type": "code",
      "metadata": {
        "id": "bSSJZgLbxfqg"
      },
      "source": [
        "#Import package yang dibutuhkan\n",
        "\n",
        "import pandas as pd\n",
        "import numpy as np\n",
        "import seaborn as sns\n",
        "import matplotlib.pyplot as plt"
      ],
      "execution_count": 1,
      "outputs": []
    },
    {
      "cell_type": "code",
      "metadata": {
        "id": "Gi8E4TzyxowC"
      },
      "source": [
        "# Download data dan unzip file\n",
        "\n",
        "from google_drive_downloader import GoogleDriveDownloader as gdd\n",
        "\n",
        "gdd.download_file_from_google_drive(file_id='10yM8r4UMFYr5ugb4vcpCWDanVUxEGkII',\n",
        "                                    dest_path='./ashrae-energy-prediction.zip',\n",
        "                                    unzip = True)"
      ],
      "execution_count": 2,
      "outputs": []
    },
    {
      "cell_type": "markdown",
      "metadata": {
        "id": "knOkGIyV0KX1"
      },
      "source": [
        "# **Data : building_metadata.csv**\n",
        "\n",
        "Keterangan :\n",
        "*   site_id - Foreign key for the weather files\n",
        "*   building_id - Foreign key for training.csv\n",
        "*   primary_use - Indicator of the primary category of activities for the building based on EnergyStar property type definitions\n",
        "*   square_feet - Gross floor area of the building\n",
        "*   year_built - Year building was opened\n",
        "*   floor_count - Number of floors of the building"
      ]
    },
    {
      "cell_type": "code",
      "metadata": {
        "id": "Gggnhlp5xr0q",
        "colab": {
          "base_uri": "https://localhost:8080/",
          "height": 204
        },
        "outputId": "337f4f43-7433-4ed2-a1d3-e1df614bec31"
      },
      "source": [
        "# Mengubah file csv menjadi dataframe\n",
        "\n",
        "df1 = pd.read_csv('building_metadata.csv')\n",
        "df1.head()"
      ],
      "execution_count": 3,
      "outputs": [
        {
          "output_type": "execute_result",
          "data": {
            "text/html": [
              "<div>\n",
              "<style scoped>\n",
              "    .dataframe tbody tr th:only-of-type {\n",
              "        vertical-align: middle;\n",
              "    }\n",
              "\n",
              "    .dataframe tbody tr th {\n",
              "        vertical-align: top;\n",
              "    }\n",
              "\n",
              "    .dataframe thead th {\n",
              "        text-align: right;\n",
              "    }\n",
              "</style>\n",
              "<table border=\"1\" class=\"dataframe\">\n",
              "  <thead>\n",
              "    <tr style=\"text-align: right;\">\n",
              "      <th></th>\n",
              "      <th>site_id</th>\n",
              "      <th>building_id</th>\n",
              "      <th>primary_use</th>\n",
              "      <th>square_feet</th>\n",
              "      <th>year_built</th>\n",
              "      <th>floor_count</th>\n",
              "    </tr>\n",
              "  </thead>\n",
              "  <tbody>\n",
              "    <tr>\n",
              "      <th>0</th>\n",
              "      <td>0</td>\n",
              "      <td>0</td>\n",
              "      <td>Education</td>\n",
              "      <td>7432</td>\n",
              "      <td>2008.0</td>\n",
              "      <td>NaN</td>\n",
              "    </tr>\n",
              "    <tr>\n",
              "      <th>1</th>\n",
              "      <td>0</td>\n",
              "      <td>1</td>\n",
              "      <td>Education</td>\n",
              "      <td>2720</td>\n",
              "      <td>2004.0</td>\n",
              "      <td>NaN</td>\n",
              "    </tr>\n",
              "    <tr>\n",
              "      <th>2</th>\n",
              "      <td>0</td>\n",
              "      <td>2</td>\n",
              "      <td>Education</td>\n",
              "      <td>5376</td>\n",
              "      <td>1991.0</td>\n",
              "      <td>NaN</td>\n",
              "    </tr>\n",
              "    <tr>\n",
              "      <th>3</th>\n",
              "      <td>0</td>\n",
              "      <td>3</td>\n",
              "      <td>Education</td>\n",
              "      <td>23685</td>\n",
              "      <td>2002.0</td>\n",
              "      <td>NaN</td>\n",
              "    </tr>\n",
              "    <tr>\n",
              "      <th>4</th>\n",
              "      <td>0</td>\n",
              "      <td>4</td>\n",
              "      <td>Education</td>\n",
              "      <td>116607</td>\n",
              "      <td>1975.0</td>\n",
              "      <td>NaN</td>\n",
              "    </tr>\n",
              "  </tbody>\n",
              "</table>\n",
              "</div>"
            ],
            "text/plain": [
              "   site_id  building_id primary_use  square_feet  year_built  floor_count\n",
              "0        0            0   Education         7432      2008.0          NaN\n",
              "1        0            1   Education         2720      2004.0          NaN\n",
              "2        0            2   Education         5376      1991.0          NaN\n",
              "3        0            3   Education        23685      2002.0          NaN\n",
              "4        0            4   Education       116607      1975.0          NaN"
            ]
          },
          "metadata": {},
          "execution_count": 3
        }
      ]
    },
    {
      "cell_type": "code",
      "metadata": {
        "id": "RiUQUoM3xwAD",
        "colab": {
          "base_uri": "https://localhost:8080/"
        },
        "outputId": "16126dac-39e8-43b4-a9a0-e7a2564d80bc"
      },
      "source": [
        "df1.info()"
      ],
      "execution_count": null,
      "outputs": [
        {
          "output_type": "stream",
          "name": "stdout",
          "text": [
            "<class 'pandas.core.frame.DataFrame'>\n",
            "RangeIndex: 1449 entries, 0 to 1448\n",
            "Data columns (total 6 columns):\n",
            " #   Column       Non-Null Count  Dtype  \n",
            "---  ------       --------------  -----  \n",
            " 0   site_id      1449 non-null   int64  \n",
            " 1   building_id  1449 non-null   int64  \n",
            " 2   primary_use  1449 non-null   object \n",
            " 3   square_feet  1449 non-null   int64  \n",
            " 4   year_built   675 non-null    float64\n",
            " 5   floor_count  355 non-null    float64\n",
            "dtypes: float64(2), int64(3), object(1)\n",
            "memory usage: 68.0+ KB\n"
          ]
        }
      ]
    },
    {
      "cell_type": "code",
      "metadata": {
        "id": "BiOAl2okxydn",
        "colab": {
          "base_uri": "https://localhost:8080/"
        },
        "outputId": "2cbf4db4-07e1-42f9-fc50-67df0fe436c9"
      },
      "source": [
        "# Mengecek banyak variabel kategorik\n",
        "\n",
        "df1['primary_use'].value_counts()"
      ],
      "execution_count": null,
      "outputs": [
        {
          "output_type": "execute_result",
          "data": {
            "text/plain": [
              "Education                        549\n",
              "Office                           279\n",
              "Entertainment/public assembly    184\n",
              "Public services                  156\n",
              "Lodging/residential              147\n",
              "Other                             25\n",
              "Healthcare                        23\n",
              "Parking                           22\n",
              "Warehouse/storage                 13\n",
              "Manufacturing/industrial          12\n",
              "Retail                            11\n",
              "Services                          10\n",
              "Technology/science                 6\n",
              "Food sales and service             5\n",
              "Utility                            4\n",
              "Religious worship                  3\n",
              "Name: primary_use, dtype: int64"
            ]
          },
          "metadata": {},
          "execution_count": 5
        }
      ]
    },
    {
      "cell_type": "markdown",
      "metadata": {
        "id": "jtqmpPd-0V58"
      },
      "source": [
        "# **Data : weather_train.csv**\n",
        "\n",
        "Keterangan:\n",
        "*   site_id\n",
        "*   air_temperature (suhu udara) - Degrees Celsius\n",
        "*   cloud_coverage (cakupan awan)- Portion of the sky covered in clouds, in oktas \n",
        "*   dew_temperature (suhu embun) - Degrees Celsius\n",
        "*   precip_depth_1_hr (precipitation/banyaknya air dari langit karena sebab apapun) - Millimeters \n",
        "*   sea_level_pressure (tekanan permukaan laut) - Millibar/hectopascals\n",
        "*   wind_direction (arah angin) - Compass direction (0-360)\n",
        "*   wind_speed (kecepatan angin) - Meters per second"
      ]
    },
    {
      "cell_type": "code",
      "metadata": {
        "id": "EaHlnLLAx1Dn",
        "colab": {
          "base_uri": "https://localhost:8080/",
          "height": 204
        },
        "outputId": "1a4a4460-44b1-421e-e76f-51cdbc12542f"
      },
      "source": [
        "df2 = pd.read_csv('weather_train.csv')\n",
        "df2.head()"
      ],
      "execution_count": 4,
      "outputs": [
        {
          "output_type": "execute_result",
          "data": {
            "text/html": [
              "<div>\n",
              "<style scoped>\n",
              "    .dataframe tbody tr th:only-of-type {\n",
              "        vertical-align: middle;\n",
              "    }\n",
              "\n",
              "    .dataframe tbody tr th {\n",
              "        vertical-align: top;\n",
              "    }\n",
              "\n",
              "    .dataframe thead th {\n",
              "        text-align: right;\n",
              "    }\n",
              "</style>\n",
              "<table border=\"1\" class=\"dataframe\">\n",
              "  <thead>\n",
              "    <tr style=\"text-align: right;\">\n",
              "      <th></th>\n",
              "      <th>site_id</th>\n",
              "      <th>timestamp</th>\n",
              "      <th>air_temperature</th>\n",
              "      <th>cloud_coverage</th>\n",
              "      <th>dew_temperature</th>\n",
              "      <th>precip_depth_1_hr</th>\n",
              "      <th>sea_level_pressure</th>\n",
              "      <th>wind_direction</th>\n",
              "      <th>wind_speed</th>\n",
              "    </tr>\n",
              "  </thead>\n",
              "  <tbody>\n",
              "    <tr>\n",
              "      <th>0</th>\n",
              "      <td>0</td>\n",
              "      <td>2016-01-01 00:00:00</td>\n",
              "      <td>25.0</td>\n",
              "      <td>6.0</td>\n",
              "      <td>20.0</td>\n",
              "      <td>NaN</td>\n",
              "      <td>1019.7</td>\n",
              "      <td>0.0</td>\n",
              "      <td>0.0</td>\n",
              "    </tr>\n",
              "    <tr>\n",
              "      <th>1</th>\n",
              "      <td>0</td>\n",
              "      <td>2016-01-01 01:00:00</td>\n",
              "      <td>24.4</td>\n",
              "      <td>NaN</td>\n",
              "      <td>21.1</td>\n",
              "      <td>-1.0</td>\n",
              "      <td>1020.2</td>\n",
              "      <td>70.0</td>\n",
              "      <td>1.5</td>\n",
              "    </tr>\n",
              "    <tr>\n",
              "      <th>2</th>\n",
              "      <td>0</td>\n",
              "      <td>2016-01-01 02:00:00</td>\n",
              "      <td>22.8</td>\n",
              "      <td>2.0</td>\n",
              "      <td>21.1</td>\n",
              "      <td>0.0</td>\n",
              "      <td>1020.2</td>\n",
              "      <td>0.0</td>\n",
              "      <td>0.0</td>\n",
              "    </tr>\n",
              "    <tr>\n",
              "      <th>3</th>\n",
              "      <td>0</td>\n",
              "      <td>2016-01-01 03:00:00</td>\n",
              "      <td>21.1</td>\n",
              "      <td>2.0</td>\n",
              "      <td>20.6</td>\n",
              "      <td>0.0</td>\n",
              "      <td>1020.1</td>\n",
              "      <td>0.0</td>\n",
              "      <td>0.0</td>\n",
              "    </tr>\n",
              "    <tr>\n",
              "      <th>4</th>\n",
              "      <td>0</td>\n",
              "      <td>2016-01-01 04:00:00</td>\n",
              "      <td>20.0</td>\n",
              "      <td>2.0</td>\n",
              "      <td>20.0</td>\n",
              "      <td>-1.0</td>\n",
              "      <td>1020.0</td>\n",
              "      <td>250.0</td>\n",
              "      <td>2.6</td>\n",
              "    </tr>\n",
              "  </tbody>\n",
              "</table>\n",
              "</div>"
            ],
            "text/plain": [
              "   site_id            timestamp  ...  wind_direction  wind_speed\n",
              "0        0  2016-01-01 00:00:00  ...             0.0         0.0\n",
              "1        0  2016-01-01 01:00:00  ...            70.0         1.5\n",
              "2        0  2016-01-01 02:00:00  ...             0.0         0.0\n",
              "3        0  2016-01-01 03:00:00  ...             0.0         0.0\n",
              "4        0  2016-01-01 04:00:00  ...           250.0         2.6\n",
              "\n",
              "[5 rows x 9 columns]"
            ]
          },
          "metadata": {},
          "execution_count": 4
        }
      ]
    },
    {
      "cell_type": "code",
      "metadata": {
        "id": "E4rEMjQux4iD",
        "colab": {
          "base_uri": "https://localhost:8080/"
        },
        "outputId": "1c0d47da-c957-4251-aeeb-139748abbdbc"
      },
      "source": [
        "df2.info()"
      ],
      "execution_count": null,
      "outputs": [
        {
          "output_type": "stream",
          "name": "stdout",
          "text": [
            "<class 'pandas.core.frame.DataFrame'>\n",
            "RangeIndex: 139773 entries, 0 to 139772\n",
            "Data columns (total 9 columns):\n",
            " #   Column              Non-Null Count   Dtype  \n",
            "---  ------              --------------   -----  \n",
            " 0   site_id             139773 non-null  int64  \n",
            " 1   timestamp           139773 non-null  object \n",
            " 2   air_temperature     139718 non-null  float64\n",
            " 3   cloud_coverage      70600 non-null   float64\n",
            " 4   dew_temperature     139660 non-null  float64\n",
            " 5   precip_depth_1_hr   89484 non-null   float64\n",
            " 6   sea_level_pressure  129155 non-null  float64\n",
            " 7   wind_direction      133505 non-null  float64\n",
            " 8   wind_speed          139469 non-null  float64\n",
            "dtypes: float64(7), int64(1), object(1)\n",
            "memory usage: 9.6+ MB\n"
          ]
        }
      ]
    },
    {
      "cell_type": "markdown",
      "metadata": {
        "id": "5V2a9K4O0b9m"
      },
      "source": [
        "# **Data : train.csv**\n",
        "\n",
        "Keterangan :\n",
        "*   building_id - Foreign key for the building metadata\n",
        "*   meter - The meter id code. Read as {0: electricity, 1: chilledwater, 2: steam, 3: hotwater}. Not every building has all meter types.\n",
        "*   timestamp - When the measurement was taken\n",
        "*   meter_reading - The target variable. Energy consumption in kWh (or equivalent). Note that this is real data with measurement error, which we expect will impose a baseline level of modeling error. \n",
        "\n",
        "UPDATE: as discussed here, the site 0 electric meter readings are in kBTU."
      ]
    },
    {
      "cell_type": "code",
      "metadata": {
        "id": "66F0cOrEx7gM",
        "colab": {
          "base_uri": "https://localhost:8080/",
          "height": 204
        },
        "outputId": "8dcef99c-87c9-4838-a67d-33e0035554f7"
      },
      "source": [
        "df3 = pd.read_csv('train.csv')\n",
        "df3.head()"
      ],
      "execution_count": 5,
      "outputs": [
        {
          "output_type": "execute_result",
          "data": {
            "text/html": [
              "<div>\n",
              "<style scoped>\n",
              "    .dataframe tbody tr th:only-of-type {\n",
              "        vertical-align: middle;\n",
              "    }\n",
              "\n",
              "    .dataframe tbody tr th {\n",
              "        vertical-align: top;\n",
              "    }\n",
              "\n",
              "    .dataframe thead th {\n",
              "        text-align: right;\n",
              "    }\n",
              "</style>\n",
              "<table border=\"1\" class=\"dataframe\">\n",
              "  <thead>\n",
              "    <tr style=\"text-align: right;\">\n",
              "      <th></th>\n",
              "      <th>building_id</th>\n",
              "      <th>meter</th>\n",
              "      <th>timestamp</th>\n",
              "      <th>meter_reading</th>\n",
              "    </tr>\n",
              "  </thead>\n",
              "  <tbody>\n",
              "    <tr>\n",
              "      <th>0</th>\n",
              "      <td>0</td>\n",
              "      <td>0</td>\n",
              "      <td>2016-01-01 00:00:00</td>\n",
              "      <td>0.0</td>\n",
              "    </tr>\n",
              "    <tr>\n",
              "      <th>1</th>\n",
              "      <td>1</td>\n",
              "      <td>0</td>\n",
              "      <td>2016-01-01 00:00:00</td>\n",
              "      <td>0.0</td>\n",
              "    </tr>\n",
              "    <tr>\n",
              "      <th>2</th>\n",
              "      <td>2</td>\n",
              "      <td>0</td>\n",
              "      <td>2016-01-01 00:00:00</td>\n",
              "      <td>0.0</td>\n",
              "    </tr>\n",
              "    <tr>\n",
              "      <th>3</th>\n",
              "      <td>3</td>\n",
              "      <td>0</td>\n",
              "      <td>2016-01-01 00:00:00</td>\n",
              "      <td>0.0</td>\n",
              "    </tr>\n",
              "    <tr>\n",
              "      <th>4</th>\n",
              "      <td>4</td>\n",
              "      <td>0</td>\n",
              "      <td>2016-01-01 00:00:00</td>\n",
              "      <td>0.0</td>\n",
              "    </tr>\n",
              "  </tbody>\n",
              "</table>\n",
              "</div>"
            ],
            "text/plain": [
              "   building_id  meter            timestamp  meter_reading\n",
              "0            0      0  2016-01-01 00:00:00            0.0\n",
              "1            1      0  2016-01-01 00:00:00            0.0\n",
              "2            2      0  2016-01-01 00:00:00            0.0\n",
              "3            3      0  2016-01-01 00:00:00            0.0\n",
              "4            4      0  2016-01-01 00:00:00            0.0"
            ]
          },
          "metadata": {},
          "execution_count": 5
        }
      ]
    },
    {
      "cell_type": "code",
      "metadata": {
        "id": "wchAcT2cx-It",
        "colab": {
          "base_uri": "https://localhost:8080/"
        },
        "outputId": "d5ab81a3-7912-44ab-fd9d-5ab93d3d7d78"
      },
      "source": [
        "df3.info()"
      ],
      "execution_count": null,
      "outputs": [
        {
          "output_type": "stream",
          "name": "stdout",
          "text": [
            "<class 'pandas.core.frame.DataFrame'>\n",
            "RangeIndex: 20216100 entries, 0 to 20216099\n",
            "Data columns (total 4 columns):\n",
            " #   Column         Dtype  \n",
            "---  ------         -----  \n",
            " 0   building_id    int64  \n",
            " 1   meter          int64  \n",
            " 2   timestamp      object \n",
            " 3   meter_reading  float64\n",
            "dtypes: float64(1), int64(2), object(1)\n",
            "memory usage: 616.9+ MB\n"
          ]
        }
      ]
    },
    {
      "cell_type": "markdown",
      "metadata": {
        "id": "3npekRy70jcc"
      },
      "source": [
        "# **Menggabungkan Ketiga Dataframe**"
      ]
    },
    {
      "cell_type": "code",
      "metadata": {
        "id": "WmHBAOJcx_4O",
        "colab": {
          "base_uri": "https://localhost:8080/",
          "height": 394
        },
        "outputId": "4e27b20b-308f-4323-e56f-8f518e4f8c79"
      },
      "source": [
        "# Menggabungkan ketiga dataframe\n",
        "\n",
        "df_total = df3.merge(df1, on='building_id', how='left')\n",
        "df_total = df_total.merge(df2, on=['site_id','timestamp'], how='left')\n",
        "\n",
        "df_total.head()"
      ],
      "execution_count": 6,
      "outputs": [
        {
          "output_type": "execute_result",
          "data": {
            "text/html": [
              "<div>\n",
              "<style scoped>\n",
              "    .dataframe tbody tr th:only-of-type {\n",
              "        vertical-align: middle;\n",
              "    }\n",
              "\n",
              "    .dataframe tbody tr th {\n",
              "        vertical-align: top;\n",
              "    }\n",
              "\n",
              "    .dataframe thead th {\n",
              "        text-align: right;\n",
              "    }\n",
              "</style>\n",
              "<table border=\"1\" class=\"dataframe\">\n",
              "  <thead>\n",
              "    <tr style=\"text-align: right;\">\n",
              "      <th></th>\n",
              "      <th>building_id</th>\n",
              "      <th>meter</th>\n",
              "      <th>timestamp</th>\n",
              "      <th>meter_reading</th>\n",
              "      <th>site_id</th>\n",
              "      <th>primary_use</th>\n",
              "      <th>square_feet</th>\n",
              "      <th>year_built</th>\n",
              "      <th>floor_count</th>\n",
              "      <th>air_temperature</th>\n",
              "      <th>cloud_coverage</th>\n",
              "      <th>dew_temperature</th>\n",
              "      <th>precip_depth_1_hr</th>\n",
              "      <th>sea_level_pressure</th>\n",
              "      <th>wind_direction</th>\n",
              "      <th>wind_speed</th>\n",
              "    </tr>\n",
              "  </thead>\n",
              "  <tbody>\n",
              "    <tr>\n",
              "      <th>0</th>\n",
              "      <td>0</td>\n",
              "      <td>0</td>\n",
              "      <td>2016-01-01 00:00:00</td>\n",
              "      <td>0.0</td>\n",
              "      <td>0</td>\n",
              "      <td>Education</td>\n",
              "      <td>7432</td>\n",
              "      <td>2008.0</td>\n",
              "      <td>NaN</td>\n",
              "      <td>25.0</td>\n",
              "      <td>6.0</td>\n",
              "      <td>20.0</td>\n",
              "      <td>NaN</td>\n",
              "      <td>1019.7</td>\n",
              "      <td>0.0</td>\n",
              "      <td>0.0</td>\n",
              "    </tr>\n",
              "    <tr>\n",
              "      <th>1</th>\n",
              "      <td>1</td>\n",
              "      <td>0</td>\n",
              "      <td>2016-01-01 00:00:00</td>\n",
              "      <td>0.0</td>\n",
              "      <td>0</td>\n",
              "      <td>Education</td>\n",
              "      <td>2720</td>\n",
              "      <td>2004.0</td>\n",
              "      <td>NaN</td>\n",
              "      <td>25.0</td>\n",
              "      <td>6.0</td>\n",
              "      <td>20.0</td>\n",
              "      <td>NaN</td>\n",
              "      <td>1019.7</td>\n",
              "      <td>0.0</td>\n",
              "      <td>0.0</td>\n",
              "    </tr>\n",
              "    <tr>\n",
              "      <th>2</th>\n",
              "      <td>2</td>\n",
              "      <td>0</td>\n",
              "      <td>2016-01-01 00:00:00</td>\n",
              "      <td>0.0</td>\n",
              "      <td>0</td>\n",
              "      <td>Education</td>\n",
              "      <td>5376</td>\n",
              "      <td>1991.0</td>\n",
              "      <td>NaN</td>\n",
              "      <td>25.0</td>\n",
              "      <td>6.0</td>\n",
              "      <td>20.0</td>\n",
              "      <td>NaN</td>\n",
              "      <td>1019.7</td>\n",
              "      <td>0.0</td>\n",
              "      <td>0.0</td>\n",
              "    </tr>\n",
              "    <tr>\n",
              "      <th>3</th>\n",
              "      <td>3</td>\n",
              "      <td>0</td>\n",
              "      <td>2016-01-01 00:00:00</td>\n",
              "      <td>0.0</td>\n",
              "      <td>0</td>\n",
              "      <td>Education</td>\n",
              "      <td>23685</td>\n",
              "      <td>2002.0</td>\n",
              "      <td>NaN</td>\n",
              "      <td>25.0</td>\n",
              "      <td>6.0</td>\n",
              "      <td>20.0</td>\n",
              "      <td>NaN</td>\n",
              "      <td>1019.7</td>\n",
              "      <td>0.0</td>\n",
              "      <td>0.0</td>\n",
              "    </tr>\n",
              "    <tr>\n",
              "      <th>4</th>\n",
              "      <td>4</td>\n",
              "      <td>0</td>\n",
              "      <td>2016-01-01 00:00:00</td>\n",
              "      <td>0.0</td>\n",
              "      <td>0</td>\n",
              "      <td>Education</td>\n",
              "      <td>116607</td>\n",
              "      <td>1975.0</td>\n",
              "      <td>NaN</td>\n",
              "      <td>25.0</td>\n",
              "      <td>6.0</td>\n",
              "      <td>20.0</td>\n",
              "      <td>NaN</td>\n",
              "      <td>1019.7</td>\n",
              "      <td>0.0</td>\n",
              "      <td>0.0</td>\n",
              "    </tr>\n",
              "  </tbody>\n",
              "</table>\n",
              "</div>"
            ],
            "text/plain": [
              "   building_id  meter  ... wind_direction  wind_speed\n",
              "0            0      0  ...            0.0         0.0\n",
              "1            1      0  ...            0.0         0.0\n",
              "2            2      0  ...            0.0         0.0\n",
              "3            3      0  ...            0.0         0.0\n",
              "4            4      0  ...            0.0         0.0\n",
              "\n",
              "[5 rows x 16 columns]"
            ]
          },
          "metadata": {},
          "execution_count": 6
        }
      ]
    },
    {
      "cell_type": "code",
      "metadata": {
        "id": "9nEpez4tyEs_",
        "colab": {
          "base_uri": "https://localhost:8080/"
        },
        "outputId": "e9f63611-2ca6-4d32-9045-f6c0ea2d3aed"
      },
      "source": [
        "df_total.info()"
      ],
      "execution_count": null,
      "outputs": [
        {
          "output_type": "stream",
          "name": "stdout",
          "text": [
            "<class 'pandas.core.frame.DataFrame'>\n",
            "Int64Index: 20216100 entries, 0 to 20216099\n",
            "Data columns (total 16 columns):\n",
            " #   Column              Dtype  \n",
            "---  ------              -----  \n",
            " 0   building_id         int64  \n",
            " 1   meter               int64  \n",
            " 2   timestamp           object \n",
            " 3   meter_reading       float64\n",
            " 4   site_id             int64  \n",
            " 5   primary_use         object \n",
            " 6   square_feet         int64  \n",
            " 7   year_built          float64\n",
            " 8   floor_count         float64\n",
            " 9   air_temperature     float64\n",
            " 10  cloud_coverage      float64\n",
            " 11  dew_temperature     float64\n",
            " 12  precip_depth_1_hr   float64\n",
            " 13  sea_level_pressure  float64\n",
            " 14  wind_direction      float64\n",
            " 15  wind_speed          float64\n",
            "dtypes: float64(10), int64(4), object(2)\n",
            "memory usage: 2.6+ GB\n"
          ]
        }
      ]
    },
    {
      "cell_type": "markdown",
      "metadata": {
        "id": "BnscZ4l801Dq"
      },
      "source": [
        "# **Mengganti Tipe Data dan Menambahkan Variabel**"
      ]
    },
    {
      "cell_type": "code",
      "metadata": {
        "id": "cEHy6q8oyUPI"
      },
      "source": [
        "# Mengubah tipe variabel timestamp menjadi datetime\n",
        "\n",
        "import datetime\n",
        "from datetime import datetime\n",
        "df_total['timestamp'] = pd.to_datetime(df_total['timestamp'])"
      ],
      "execution_count": 7,
      "outputs": []
    },
    {
      "cell_type": "code",
      "metadata": {
        "id": "ac6s57H7yW-W",
        "colab": {
          "base_uri": "https://localhost:8080/",
          "height": 309
        },
        "outputId": "7c50a11e-a891-4852-cad6-34e91a63f2b0"
      },
      "source": [
        "# Menambahkan jam, bulan, nama hari\n",
        "\n",
        "df_total['hour'] = np.uint8(df_total['timestamp'].dt.hour)\n",
        "df_total['month'] = np.uint8(df_total['timestamp'].dt.month)\n",
        "df_total['day_name'] = df_total['timestamp'].dt.day_name()\n",
        "\n",
        "df_total.head()"
      ],
      "execution_count": 8,
      "outputs": [
        {
          "output_type": "execute_result",
          "data": {
            "text/html": [
              "<div>\n",
              "<style scoped>\n",
              "    .dataframe tbody tr th:only-of-type {\n",
              "        vertical-align: middle;\n",
              "    }\n",
              "\n",
              "    .dataframe tbody tr th {\n",
              "        vertical-align: top;\n",
              "    }\n",
              "\n",
              "    .dataframe thead th {\n",
              "        text-align: right;\n",
              "    }\n",
              "</style>\n",
              "<table border=\"1\" class=\"dataframe\">\n",
              "  <thead>\n",
              "    <tr style=\"text-align: right;\">\n",
              "      <th></th>\n",
              "      <th>building_id</th>\n",
              "      <th>meter</th>\n",
              "      <th>timestamp</th>\n",
              "      <th>meter_reading</th>\n",
              "      <th>site_id</th>\n",
              "      <th>primary_use</th>\n",
              "      <th>square_feet</th>\n",
              "      <th>year_built</th>\n",
              "      <th>floor_count</th>\n",
              "      <th>air_temperature</th>\n",
              "      <th>cloud_coverage</th>\n",
              "      <th>dew_temperature</th>\n",
              "      <th>precip_depth_1_hr</th>\n",
              "      <th>sea_level_pressure</th>\n",
              "      <th>wind_direction</th>\n",
              "      <th>wind_speed</th>\n",
              "      <th>hour</th>\n",
              "      <th>month</th>\n",
              "      <th>day_name</th>\n",
              "    </tr>\n",
              "  </thead>\n",
              "  <tbody>\n",
              "    <tr>\n",
              "      <th>0</th>\n",
              "      <td>0</td>\n",
              "      <td>0</td>\n",
              "      <td>2016-01-01</td>\n",
              "      <td>0.0</td>\n",
              "      <td>0</td>\n",
              "      <td>Education</td>\n",
              "      <td>7432</td>\n",
              "      <td>2008.0</td>\n",
              "      <td>NaN</td>\n",
              "      <td>25.0</td>\n",
              "      <td>6.0</td>\n",
              "      <td>20.0</td>\n",
              "      <td>NaN</td>\n",
              "      <td>1019.7</td>\n",
              "      <td>0.0</td>\n",
              "      <td>0.0</td>\n",
              "      <td>0</td>\n",
              "      <td>1</td>\n",
              "      <td>Friday</td>\n",
              "    </tr>\n",
              "    <tr>\n",
              "      <th>1</th>\n",
              "      <td>1</td>\n",
              "      <td>0</td>\n",
              "      <td>2016-01-01</td>\n",
              "      <td>0.0</td>\n",
              "      <td>0</td>\n",
              "      <td>Education</td>\n",
              "      <td>2720</td>\n",
              "      <td>2004.0</td>\n",
              "      <td>NaN</td>\n",
              "      <td>25.0</td>\n",
              "      <td>6.0</td>\n",
              "      <td>20.0</td>\n",
              "      <td>NaN</td>\n",
              "      <td>1019.7</td>\n",
              "      <td>0.0</td>\n",
              "      <td>0.0</td>\n",
              "      <td>0</td>\n",
              "      <td>1</td>\n",
              "      <td>Friday</td>\n",
              "    </tr>\n",
              "    <tr>\n",
              "      <th>2</th>\n",
              "      <td>2</td>\n",
              "      <td>0</td>\n",
              "      <td>2016-01-01</td>\n",
              "      <td>0.0</td>\n",
              "      <td>0</td>\n",
              "      <td>Education</td>\n",
              "      <td>5376</td>\n",
              "      <td>1991.0</td>\n",
              "      <td>NaN</td>\n",
              "      <td>25.0</td>\n",
              "      <td>6.0</td>\n",
              "      <td>20.0</td>\n",
              "      <td>NaN</td>\n",
              "      <td>1019.7</td>\n",
              "      <td>0.0</td>\n",
              "      <td>0.0</td>\n",
              "      <td>0</td>\n",
              "      <td>1</td>\n",
              "      <td>Friday</td>\n",
              "    </tr>\n",
              "    <tr>\n",
              "      <th>3</th>\n",
              "      <td>3</td>\n",
              "      <td>0</td>\n",
              "      <td>2016-01-01</td>\n",
              "      <td>0.0</td>\n",
              "      <td>0</td>\n",
              "      <td>Education</td>\n",
              "      <td>23685</td>\n",
              "      <td>2002.0</td>\n",
              "      <td>NaN</td>\n",
              "      <td>25.0</td>\n",
              "      <td>6.0</td>\n",
              "      <td>20.0</td>\n",
              "      <td>NaN</td>\n",
              "      <td>1019.7</td>\n",
              "      <td>0.0</td>\n",
              "      <td>0.0</td>\n",
              "      <td>0</td>\n",
              "      <td>1</td>\n",
              "      <td>Friday</td>\n",
              "    </tr>\n",
              "    <tr>\n",
              "      <th>4</th>\n",
              "      <td>4</td>\n",
              "      <td>0</td>\n",
              "      <td>2016-01-01</td>\n",
              "      <td>0.0</td>\n",
              "      <td>0</td>\n",
              "      <td>Education</td>\n",
              "      <td>116607</td>\n",
              "      <td>1975.0</td>\n",
              "      <td>NaN</td>\n",
              "      <td>25.0</td>\n",
              "      <td>6.0</td>\n",
              "      <td>20.0</td>\n",
              "      <td>NaN</td>\n",
              "      <td>1019.7</td>\n",
              "      <td>0.0</td>\n",
              "      <td>0.0</td>\n",
              "      <td>0</td>\n",
              "      <td>1</td>\n",
              "      <td>Friday</td>\n",
              "    </tr>\n",
              "  </tbody>\n",
              "</table>\n",
              "</div>"
            ],
            "text/plain": [
              "   building_id  meter  timestamp  ...  hour  month day_name\n",
              "0            0      0 2016-01-01  ...     0      1   Friday\n",
              "1            1      0 2016-01-01  ...     0      1   Friday\n",
              "2            2      0 2016-01-01  ...     0      1   Friday\n",
              "3            3      0 2016-01-01  ...     0      1   Friday\n",
              "4            4      0 2016-01-01  ...     0      1   Friday\n",
              "\n",
              "[5 rows x 19 columns]"
            ]
          },
          "metadata": {},
          "execution_count": 8
        }
      ]
    },
    {
      "cell_type": "code",
      "metadata": {
        "id": "OFx8yZ-Cyb4w",
        "colab": {
          "base_uri": "https://localhost:8080/",
          "height": 396
        },
        "outputId": "5fc09f58-0d68-4e81-f2c8-b1fcec87a0f6"
      },
      "source": [
        "# Melihat distribusi meter_reading\n",
        "\n",
        "sns.distplot(df_total['meter_reading'], kde=True, rug=True)"
      ],
      "execution_count": null,
      "outputs": [
        {
          "metadata": {
            "tags": null
          },
          "name": "stderr",
          "output_type": "stream",
          "text": [
            "/usr/local/lib/python3.7/dist-packages/seaborn/distributions.py:2619: FutureWarning: `distplot` is a deprecated function and will be removed in a future version. Please adapt your code to use either `displot` (a figure-level function with similar flexibility) or `histplot` (an axes-level function for histograms).\n",
            "  warnings.warn(msg, FutureWarning)\n",
            "/usr/local/lib/python3.7/dist-packages/seaborn/distributions.py:2103: FutureWarning: The `axis` variable is no longer used and will be removed. Instead, assign variables directly to `x` or `y`.\n",
            "  warnings.warn(msg, FutureWarning)\n"
          ]
        },
        {
          "output_type": "execute_result",
          "data": {
            "text/plain": [
              "<matplotlib.axes._subplots.AxesSubplot at 0x7f4503afe650>"
            ]
          },
          "metadata": {},
          "execution_count": 9
        },
        {
          "output_type": "display_data",
          "data": {
            "image/png": "[encoded data removed]",
            "text/plain": [
              "<Figure size 432x288 with 1 Axes>"
            ]
          },
          "metadata": {
            "needs_background": "light"
          }
        }
      ]
    },
    {
      "cell_type": "markdown",
      "metadata": {
        "id": "sY_YS7-N1AOL"
      },
      "source": [
        "Akan digunakan transformasi log untuk melihat distribusi data meter_reading secara lebih jelas."
      ]
    },
    {
      "cell_type": "code",
      "metadata": {
        "id": "7J36HKUvyeOc"
      },
      "source": [
        "# Menambahkan variabel natural_log ke df_total \n",
        "\n",
        "df_total['natural_log'] = np.log(df_total['meter_reading']+1)"
      ],
      "execution_count": 9,
      "outputs": []
    },
    {
      "cell_type": "code",
      "metadata": {
        "id": "kgpygWvTz_Dm",
        "colab": {
          "base_uri": "https://localhost:8080/",
          "height": 388
        },
        "outputId": "9c9d7efa-ddb9-460f-bcc5-cf9046c400f2"
      },
      "source": [
        "# Melihat distribusi log(meter_reading)\n",
        "\n",
        "sns.distplot(df_total['natural_log'], kde=True, rug=True)"
      ],
      "execution_count": null,
      "outputs": [
        {
          "output_type": "stream",
          "name": "stderr",
          "text": [
            "/usr/local/lib/python3.7/dist-packages/seaborn/distributions.py:2619: FutureWarning: `distplot` is a deprecated function and will be removed in a future version. Please adapt your code to use either `displot` (a figure-level function with similar flexibility) or `histplot` (an axes-level function for histograms).\n",
            "  warnings.warn(msg, FutureWarning)\n",
            "/usr/local/lib/python3.7/dist-packages/seaborn/distributions.py:2103: FutureWarning: The `axis` variable is no longer used and will be removed. Instead, assign variables directly to `x` or `y`.\n",
            "  warnings.warn(msg, FutureWarning)\n"
          ]
        },
        {
          "output_type": "execute_result",
          "data": {
            "text/plain": [
              "<matplotlib.axes._subplots.AxesSubplot at 0x7f7668329590>"
            ]
          },
          "metadata": {},
          "execution_count": 10
        },
        {
          "output_type": "display_data",
          "data": {
            "image/png": "[encoded data removed]",
            "text/plain": [
              "<Figure size 432x288 with 1 Axes>"
            ]
          },
          "metadata": {
            "needs_background": "light"
          }
        }
      ]
    },
    {
      "cell_type": "markdown",
      "metadata": {
        "id": "mRbb1yiI2Yy9"
      },
      "source": [
        "Dari plot di atas, dapat terlihat bahwa log(meter_reading) berdistribusi normal (jika mengabaikan missing value)."
      ]
    },
    {
      "cell_type": "code",
      "metadata": {
        "id": "Pu4QSIp22TG6",
        "colab": {
          "base_uri": "https://localhost:8080/"
        },
        "outputId": "fbf35f2f-858f-4d62-dc0f-f1052295e49a"
      },
      "source": [
        "# Mengubah tipe data\n",
        "\n",
        "df_total['primary_use'] = df_total['primary_use'].astype('category')\n",
        "df_total['building_id'] = df_total['building_id'].astype('category')\n",
        "df_total['site_id'] = df_total['site_id'].astype('category')\n",
        "df_total['cloud_coverage'] = df_total['cloud_coverage'].astype('category')\n",
        "df_total['day_name'] = df_total['day_name'].astype('category')\n",
        "df_total['meter'] = df_total['meter'].astype('category')\n",
        "\n",
        "df_total.info()"
      ],
      "execution_count": 10,
      "outputs": [
        {
          "output_type": "stream",
          "name": "stdout",
          "text": [
            "<class 'pandas.core.frame.DataFrame'>\n",
            "Int64Index: 20216100 entries, 0 to 20216099\n",
            "Data columns (total 20 columns):\n",
            " #   Column              Dtype         \n",
            "---  ------              -----         \n",
            " 0   building_id         category      \n",
            " 1   meter               category      \n",
            " 2   timestamp           datetime64[ns]\n",
            " 3   meter_reading       float64       \n",
            " 4   site_id             category      \n",
            " 5   primary_use         category      \n",
            " 6   square_feet         int64         \n",
            " 7   year_built          float64       \n",
            " 8   floor_count         float64       \n",
            " 9   air_temperature     float64       \n",
            " 10  cloud_coverage      category      \n",
            " 11  dew_temperature     float64       \n",
            " 12  precip_depth_1_hr   float64       \n",
            " 13  sea_level_pressure  float64       \n",
            " 14  wind_direction      float64       \n",
            " 15  wind_speed          float64       \n",
            " 16  hour                uint8         \n",
            " 17  month               uint8         \n",
            " 18  day_name            category      \n",
            " 19  natural_log         float64       \n",
            "dtypes: category(6), datetime64[ns](1), float64(10), int64(1), uint8(2)\n",
            "memory usage: 2.1 GB\n"
          ]
        }
      ]
    },
    {
      "cell_type": "markdown",
      "metadata": {
        "id": "yzreyREQ2hOY"
      },
      "source": [
        "# **Data Cleaning : Duplikasi, Noise, Outlier, dan Missing Value**"
      ]
    },
    {
      "cell_type": "markdown",
      "metadata": {
        "id": "tZaGmxyA2irY"
      },
      "source": [
        "**Mengecek Duplikasi Data**"
      ]
    },
    {
      "cell_type": "code",
      "metadata": {
        "id": "TEGdmsLH2eBg",
        "colab": {
          "base_uri": "https://localhost:8080/"
        },
        "outputId": "759794ed-c7c4-4888-cff8-295d0419b03f"
      },
      "source": [
        "# Mengecek duplikasi data\n",
        "\n",
        "df_total.duplicated().sum()"
      ],
      "execution_count": null,
      "outputs": [
        {
          "output_type": "execute_result",
          "data": {
            "text/plain": [
              "0"
            ]
          },
          "metadata": {},
          "execution_count": 15
        }
      ]
    },
    {
      "cell_type": "markdown",
      "metadata": {
        "id": "ieQoFvi62nEs"
      },
      "source": [
        "**Mengecek Noise Data**"
      ]
    },
    {
      "cell_type": "code",
      "metadata": {
        "id": "8OKf_R7y2pOL",
        "colab": {
          "base_uri": "https://localhost:8080/",
          "height": 315
        },
        "outputId": "ed911376-474f-4e0c-a144-a7d316485831"
      },
      "source": [
        "# Mengecek noise (akan dilihat dari nilai min max)\n",
        "\n",
        "# square_feet tidak boleh negatif \n",
        "# air_temperature dan dew_tempature : range sekitar (-20, 40)\n",
        "# wind_direction : rangenya 0-360\n",
        "# wind_speed tidak boleh negatif  \n",
        "# sea_level_pressure : range 950 - 1050 (https://www.e-education.psu.edu/meteo3/l6_p3.html#:~:text=This%20is%20where%20knowing%20the%20typical%20range%20of,or%20an%20extremely%20strong%20Arctic%20high%20in%20winter%29.)\n",
        "# meter_reading tidak boleh negatif\n",
        "\n",
        "df_total.describe()"
      ],
      "execution_count": null,
      "outputs": [
        {
          "output_type": "execute_result",
          "data": {
            "text/html": [
              "<div>\n",
              "<style scoped>\n",
              "    .dataframe tbody tr th:only-of-type {\n",
              "        vertical-align: middle;\n",
              "    }\n",
              "\n",
              "    .dataframe tbody tr th {\n",
              "        vertical-align: top;\n",
              "    }\n",
              "\n",
              "    .dataframe thead th {\n",
              "        text-align: right;\n",
              "    }\n",
              "</style>\n",
              "<table border=\"1\" class=\"dataframe\">\n",
              "  <thead>\n",
              "    <tr style=\"text-align: right;\">\n",
              "      <th></th>\n",
              "      <th>meter_reading</th>\n",
              "      <th>square_feet</th>\n",
              "      <th>year_built</th>\n",
              "      <th>floor_count</th>\n",
              "      <th>air_temperature</th>\n",
              "      <th>dew_temperature</th>\n",
              "      <th>precip_depth_1_hr</th>\n",
              "      <th>sea_level_pressure</th>\n",
              "      <th>wind_direction</th>\n",
              "      <th>wind_speed</th>\n",
              "      <th>hour</th>\n",
              "      <th>month</th>\n",
              "    </tr>\n",
              "  </thead>\n",
              "  <tbody>\n",
              "    <tr>\n",
              "      <th>count</th>\n",
              "      <td>2.021610e+07</td>\n",
              "      <td>2.021610e+07</td>\n",
              "      <td>8.088455e+06</td>\n",
              "      <td>3.506933e+06</td>\n",
              "      <td>2.011944e+07</td>\n",
              "      <td>2.011596e+07</td>\n",
              "      <td>1.646708e+07</td>\n",
              "      <td>1.898443e+07</td>\n",
              "      <td>1.876705e+07</td>\n",
              "      <td>2.007242e+07</td>\n",
              "      <td>2.021610e+07</td>\n",
              "      <td>2.021610e+07</td>\n",
              "    </tr>\n",
              "    <tr>\n",
              "      <th>mean</th>\n",
              "      <td>2.117121e+03</td>\n",
              "      <td>1.077830e+05</td>\n",
              "      <td>1.968277e+03</td>\n",
              "      <td>4.184848e+00</td>\n",
              "      <td>1.598795e+01</td>\n",
              "      <td>7.747429e+00</td>\n",
              "      <td>7.964155e-01</td>\n",
              "      <td>1.016085e+03</td>\n",
              "      <td>1.730151e+02</td>\n",
              "      <td>3.377525e+00</td>\n",
              "      <td>1.150232e+01</td>\n",
              "      <td>6.578453e+00</td>\n",
              "    </tr>\n",
              "    <tr>\n",
              "      <th>std</th>\n",
              "      <td>1.532356e+05</td>\n",
              "      <td>1.171424e+05</td>\n",
              "      <td>3.020815e+01</td>\n",
              "      <td>4.008277e+00</td>\n",
              "      <td>1.094729e+01</td>\n",
              "      <td>1.017867e+01</td>\n",
              "      <td>7.468997e+00</td>\n",
              "      <td>7.060539e+00</td>\n",
              "      <td>1.140574e+02</td>\n",
              "      <td>2.265694e+00</td>\n",
              "      <td>6.922017e+00</td>\n",
              "      <td>3.436662e+00</td>\n",
              "    </tr>\n",
              "    <tr>\n",
              "      <th>min</th>\n",
              "      <td>0.000000e+00</td>\n",
              "      <td>2.830000e+02</td>\n",
              "      <td>1.900000e+03</td>\n",
              "      <td>1.000000e+00</td>\n",
              "      <td>-2.890000e+01</td>\n",
              "      <td>-3.500000e+01</td>\n",
              "      <td>-1.000000e+00</td>\n",
              "      <td>9.682000e+02</td>\n",
              "      <td>0.000000e+00</td>\n",
              "      <td>0.000000e+00</td>\n",
              "      <td>0.000000e+00</td>\n",
              "      <td>1.000000e+00</td>\n",
              "    </tr>\n",
              "    <tr>\n",
              "      <th>25%</th>\n",
              "      <td>1.830000e+01</td>\n",
              "      <td>3.252700e+04</td>\n",
              "      <td>1.951000e+03</td>\n",
              "      <td>1.000000e+00</td>\n",
              "      <td>8.600000e+00</td>\n",
              "      <td>0.000000e+00</td>\n",
              "      <td>0.000000e+00</td>\n",
              "      <td>1.011600e+03</td>\n",
              "      <td>7.000000e+01</td>\n",
              "      <td>2.100000e+00</td>\n",
              "      <td>6.000000e+00</td>\n",
              "      <td>4.000000e+00</td>\n",
              "    </tr>\n",
              "    <tr>\n",
              "      <th>50%</th>\n",
              "      <td>7.877500e+01</td>\n",
              "      <td>7.270900e+04</td>\n",
              "      <td>1.969000e+03</td>\n",
              "      <td>3.000000e+00</td>\n",
              "      <td>1.670000e+01</td>\n",
              "      <td>8.900000e+00</td>\n",
              "      <td>0.000000e+00</td>\n",
              "      <td>1.016000e+03</td>\n",
              "      <td>1.800000e+02</td>\n",
              "      <td>3.100000e+00</td>\n",
              "      <td>1.200000e+01</td>\n",
              "      <td>7.000000e+00</td>\n",
              "    </tr>\n",
              "    <tr>\n",
              "      <th>75%</th>\n",
              "      <td>2.679840e+02</td>\n",
              "      <td>1.391130e+05</td>\n",
              "      <td>1.993000e+03</td>\n",
              "      <td>6.000000e+00</td>\n",
              "      <td>2.410000e+01</td>\n",
              "      <td>1.610000e+01</td>\n",
              "      <td>0.000000e+00</td>\n",
              "      <td>1.020500e+03</td>\n",
              "      <td>2.800000e+02</td>\n",
              "      <td>4.600000e+00</td>\n",
              "      <td>1.800000e+01</td>\n",
              "      <td>1.000000e+01</td>\n",
              "    </tr>\n",
              "    <tr>\n",
              "      <th>max</th>\n",
              "      <td>2.190470e+07</td>\n",
              "      <td>8.750000e+05</td>\n",
              "      <td>2.017000e+03</td>\n",
              "      <td>2.600000e+01</td>\n",
              "      <td>4.720000e+01</td>\n",
              "      <td>2.610000e+01</td>\n",
              "      <td>3.430000e+02</td>\n",
              "      <td>1.045500e+03</td>\n",
              "      <td>3.600000e+02</td>\n",
              "      <td>1.900000e+01</td>\n",
              "      <td>2.300000e+01</td>\n",
              "      <td>1.200000e+01</td>\n",
              "    </tr>\n",
              "  </tbody>\n",
              "</table>\n",
              "</div>"
            ],
            "text/plain": [
              "       meter_reading   square_feet  ...          hour         month\n",
              "count   2.021610e+07  2.021610e+07  ...  2.021610e+07  2.021610e+07\n",
              "mean    2.117121e+03  1.077830e+05  ...  1.150232e+01  6.578453e+00\n",
              "std     1.532356e+05  1.171424e+05  ...  6.922017e+00  3.436662e+00\n",
              "min     0.000000e+00  2.830000e+02  ...  0.000000e+00  1.000000e+00\n",
              "25%     1.830000e+01  3.252700e+04  ...  6.000000e+00  4.000000e+00\n",
              "50%     7.877500e+01  7.270900e+04  ...  1.200000e+01  7.000000e+00\n",
              "75%     2.679840e+02  1.391130e+05  ...  1.800000e+01  1.000000e+01\n",
              "max     2.190470e+07  8.750000e+05  ...  2.300000e+01  1.200000e+01\n",
              "\n",
              "[8 rows x 12 columns]"
            ]
          },
          "metadata": {},
          "execution_count": 16
        }
      ]
    },
    {
      "cell_type": "markdown",
      "metadata": {
        "id": "sCBaj97N2t1t"
      },
      "source": [
        "**Mengecek Outlier**"
      ]
    },
    {
      "cell_type": "markdown",
      "metadata": {
        "id": "tTpdVXH82w5P"
      },
      "source": [
        "Selanjutnya akan dilakukan deteksi *outlier*. Deteksi *outlier* dilakukan terlebih dahulu sebelum imputasi *missing value* agar *outlier* tidak memengaruhi metode imputasi. Deteksi *outlier* akan dilakukan dengan metode *interquartile*. Metode ini dipilih karena penggunaannya yang praktis dan tidak membutuhkan banyak asumsi (non-parametrik)."
      ]
    },
    {
      "cell_type": "markdown",
      "metadata": {
        "id": "_AAvK49EwWuj"
      },
      "source": [
        "Akan tetapi, metode interquartile tidak dapat diterapkan pada variabel precip_depth_1_hr, karena Q1=Q2=Q3=0. Oleh karena itu, sebelum melakukan deteksi dan menyingkirkan outlier, akan dilihat banyaknya *zero values* di variabel precip_depth_1_hr."
      ]
    },
    {
      "cell_type": "code",
      "metadata": {
        "colab": {
          "base_uri": "https://localhost:8080/"
        },
        "id": "tZC1btuEtW1Q",
        "outputId": "12d1515d-647b-4ce3-b7ef-02fc98dc445d"
      },
      "source": [
        "# Mengecek banyaknya zero values di variabel precip_depth_1_hr\n",
        "\n",
        "df_total['precip_depth_1_hr'].isin([0]).sum()"
      ],
      "execution_count": 12,
      "outputs": [
        {
          "output_type": "execute_result",
          "data": {
            "text/plain": [
              "14517573"
            ]
          },
          "metadata": {},
          "execution_count": 12
        }
      ]
    },
    {
      "cell_type": "markdown",
      "metadata": {
        "id": "rMZ3eeVlwzzc"
      },
      "source": [
        "Walaupun banyak pengamatan yang berisi *zero values* pada variabel precip_depth_1_hr, tetapi nilai 0 untuk variabel tersebut masih masuk akal, sehingga tidak akan kita kategorikan sebagai *missing value*. Metode interquartile tidak akan diterapkan pada variabel ini agar nilai-nilai tidak 0 tetap terjaga."
      ]
    },
    {
      "cell_type": "code",
      "metadata": {
        "id": "dKwdmpZp2zjQ"
      },
      "source": [
        "# Meremove outlier meter_reading\n",
        "\n",
        "Q1 = df_total['meter_reading'].quantile(0.25)\n",
        "Q3 = df_total['meter_reading'].quantile(0.75)\n",
        "IQR = Q3 - Q1\n",
        "df_total.drop(df_total[(df_total.meter_reading < (Q1-1.5*IQR)) | (df_total.meter_reading > (Q3+1.5*IQR))].index, inplace = True)"
      ],
      "execution_count": 13,
      "outputs": []
    },
    {
      "cell_type": "code",
      "metadata": {
        "id": "WqfjMFmb24Sj"
      },
      "source": [
        "# Meremove outlier square_feet\n",
        "\n",
        "Q1 = df1['square_feet'].quantile(0.25)\n",
        "Q3 = df1['square_feet'].quantile(0.75)\n",
        "IQR = Q3 - Q1\n",
        "df_total.drop(df_total[(df_total.square_feet < (Q1-1.5*IQR)) | (df_total.square_feet > (Q3+1.5*IQR))].index, inplace = True)"
      ],
      "execution_count": 14,
      "outputs": []
    },
    {
      "cell_type": "code",
      "metadata": {
        "id": "cZa0ynZZ26IV"
      },
      "source": [
        "# Meremove outlier air_temperature\n",
        "\n",
        "Q1 = df2['air_temperature'].quantile(0.25)\n",
        "Q3 = df2['air_temperature'].quantile(0.75)\n",
        "IQR = Q3 - Q1\n",
        "df_total.drop(df_total[(df_total.air_temperature < (Q1-1.5*IQR)) | (df_total.air_temperature > (Q3+1.5*IQR))].index, inplace = True)"
      ],
      "execution_count": 15,
      "outputs": []
    },
    {
      "cell_type": "code",
      "metadata": {
        "id": "WXZfO7qm29VR"
      },
      "source": [
        "# Meremove outlier dew_temperature\n",
        "\n",
        "Q1 = df2['dew_temperature'].quantile(0.25)\n",
        "Q3 = df2['dew_temperature'].quantile(0.75)\n",
        "IQR = Q3 - Q1\n",
        "df_total.drop(df_total[(df_total.dew_temperature < (Q1-1.5*IQR)) | (df_total.dew_temperature > (Q3+1.5*IQR))].index, inplace = True)"
      ],
      "execution_count": 16,
      "outputs": []
    },
    {
      "cell_type": "code",
      "metadata": {
        "id": "yXLyIosz3B5E"
      },
      "source": [
        "# Meremove outlier sea_level_pressure\n",
        "\n",
        "Q1 = df2['sea_level_pressure'].quantile(0.25)\n",
        "Q3 = df2['sea_level_pressure'].quantile(0.75)\n",
        "IQR = Q3 - Q1\n",
        "df_total.drop(df_total[(df_total.sea_level_pressure < (Q1-1.5*IQR)) | (df_total.sea_level_pressure > (Q3+1.5*IQR))].index, inplace = True)"
      ],
      "execution_count": 17,
      "outputs": []
    },
    {
      "cell_type": "code",
      "metadata": {
        "id": "D6Js_2aL3Eps"
      },
      "source": [
        "# Meremove outlier wind_direction\n",
        "\n",
        "Q1 = df2['wind_direction'].quantile(0.25)\n",
        "Q3 = df2['wind_direction'].quantile(0.75)\n",
        "IQR = Q3 - Q1\n",
        "df_total.drop(df_total[(df_total.wind_direction < (Q1-1.5*IQR)) | (df_total.wind_direction > (Q3+1.5*IQR))].index, inplace = True)"
      ],
      "execution_count": 18,
      "outputs": []
    },
    {
      "cell_type": "code",
      "metadata": {
        "id": "XezZ8c0c3HlX"
      },
      "source": [
        "# Meremove outlier wind_speed\n",
        "\n",
        "Q1 = df2['wind_speed'].quantile(0.25)\n",
        "Q3 = df2['wind_speed'].quantile(0.75)\n",
        "IQR = Q3 - Q1\n",
        "df_total.drop(df_total[(df_total.wind_speed < (Q1-1.5*IQR)) | (df_total.wind_speed > (Q3+1.5*IQR))].index, inplace = True)"
      ],
      "execution_count": 19,
      "outputs": []
    },
    {
      "cell_type": "code",
      "metadata": {
        "id": "yRhgpPxpG64K",
        "colab": {
          "base_uri": "https://localhost:8080/"
        },
        "outputId": "1ae5d8e7-c971-4fba-8d65-db1a4e40eff9"
      },
      "source": [
        "# Melihat banyaknya data setelah outlier diremove\n",
        "\n",
        "df_total.shape"
      ],
      "execution_count": 20,
      "outputs": [
        {
          "output_type": "execute_result",
          "data": {
            "text/plain": [
              "(16121412, 20)"
            ]
          },
          "metadata": {},
          "execution_count": 20
        }
      ]
    },
    {
      "cell_type": "markdown",
      "metadata": {
        "id": "G86Jin2W3OPV"
      },
      "source": [
        "**Mengecek Missing Value**"
      ]
    },
    {
      "cell_type": "code",
      "metadata": {
        "id": "36kwcJml3SfC",
        "colab": {
          "base_uri": "https://localhost:8080/"
        },
        "outputId": "63b93929-a9d8-4bbb-d177-405461edcf69"
      },
      "source": [
        "# Mengecek missing value\n",
        "\n",
        "df_total.isnull().sum()"
      ],
      "execution_count": 21,
      "outputs": [
        {
          "output_type": "execute_result",
          "data": {
            "text/plain": [
              "building_id                  0\n",
              "meter                        0\n",
              "timestamp                    0\n",
              "meter_reading                0\n",
              "site_id                      0\n",
              "primary_use                  0\n",
              "square_feet                  0\n",
              "year_built             9535865\n",
              "floor_count           13155706\n",
              "air_temperature          80047\n",
              "cloud_coverage         6901287\n",
              "dew_temperature          82490\n",
              "precip_depth_1_hr      3100434\n",
              "sea_level_pressure     1105853\n",
              "wind_direction         1165071\n",
              "wind_speed              117737\n",
              "hour                         0\n",
              "month                        0\n",
              "day_name                     0\n",
              "natural_log                  0\n",
              "dtype: int64"
            ]
          },
          "metadata": {},
          "execution_count": 21
        }
      ]
    },
    {
      "cell_type": "markdown",
      "metadata": {
        "id": "oSNkwx3P3Wkd"
      },
      "source": [
        "Karena floor_count memiliki missing value >80% dan variabel year_built memiliki missing value >50%, maka kedua variabel tersebut akan di drop."
      ]
    },
    {
      "cell_type": "code",
      "metadata": {
        "id": "xM0w-lU03YhO"
      },
      "source": [
        "df_total.drop(labels = 'year_built', axis = 1, inplace = True)"
      ],
      "execution_count": 22,
      "outputs": []
    },
    {
      "cell_type": "code",
      "metadata": {
        "id": "luyyW9m53bDp"
      },
      "source": [
        "df_total.drop(labels = 'floor_count', axis = 1, inplace = True)"
      ],
      "execution_count": 23,
      "outputs": []
    },
    {
      "cell_type": "markdown",
      "metadata": {
        "id": "CltzK2YC3jUe"
      },
      "source": [
        "Salah satu cara yang paling mudah dan umum digunakan untuk me-*replace missing value* adalah menggantinya dengan *mean* atau median. Akan tetapi, karena data ini adalah data runtun waktu, mengganti *missing value* dengan *mean* atau median akan menjadi kurang akurat, terlebih jika data tersebut tidak stasioner. \n",
        "\n",
        "Oleh karena itu, kami akan menggunakan metode interpolasi linier untuk me-*replace* data yang hilang. Metode interpolasi linier digunakan karena ekonomis (algoritmanya tidak terlalu rumit), efisien, dan terbukti memiliki performa lebih baik daripada interpolasi non-linier di kebanyakan kasus untuk memprediksi *missing value* (Gnauk, 2004). "
      ]
    },
    {
      "cell_type": "code",
      "metadata": {
        "id": "KMq8KLja3j8G"
      },
      "source": [
        "# Mengganti missing value pada variabel numerik dengan interpolasi linier\n",
        "\n",
        "df_total['air_temperature'].interpolate(method='linear', direction = 'both', inplace = True)\n",
        "df_total['dew_temperature'].interpolate(method='linear', direction = 'both', inplace = True)\n",
        "df_total['precip_depth_1_hr'].interpolate(method='linear', direction = 'both', inplace = True)\n",
        "df_total['sea_level_pressure'].interpolate(method='linear', direction = 'both', inplace = True)\n",
        "df_total['wind_direction'].interpolate(method='linear', direction = 'both', inplace = True)\n",
        "df_total['wind_speed'].interpolate(method='linear', direction = 'both', inplace = True)"
      ],
      "execution_count": 25,
      "outputs": []
    },
    {
      "cell_type": "code",
      "metadata": {
        "id": "8VpnKUuE3ms6"
      },
      "source": [
        "# Mengganti missing value di cloud_coverage dengan modus\n",
        "df_total['cloud_coverage'] = df_total['cloud_coverage'].fillna(df_total['cloud_coverage'].mode()[0])"
      ],
      "execution_count": 26,
      "outputs": []
    },
    {
      "cell_type": "code",
      "metadata": {
        "id": "TFTdxg-DUg6q",
        "colab": {
          "base_uri": "https://localhost:8080/"
        },
        "outputId": "084a957d-b366-45f4-9edd-c5806db85c49"
      },
      "source": [
        "# Mengecek jumlah missing value setelah melakukan imputasi\n",
        "\n",
        "df_total.isnull().sum()"
      ],
      "execution_count": 27,
      "outputs": [
        {
          "output_type": "execute_result",
          "data": {
            "text/plain": [
              "building_id              0\n",
              "meter                    0\n",
              "timestamp                0\n",
              "meter_reading            0\n",
              "site_id                  0\n",
              "primary_use              0\n",
              "square_feet              0\n",
              "air_temperature          0\n",
              "cloud_coverage           0\n",
              "dew_temperature          0\n",
              "precip_depth_1_hr     1933\n",
              "sea_level_pressure       0\n",
              "wind_direction           0\n",
              "wind_speed               0\n",
              "hour                     0\n",
              "month                    0\n",
              "day_name                 0\n",
              "natural_log              0\n",
              "dtype: int64"
            ]
          },
          "metadata": {},
          "execution_count": 27
        }
      ]
    },
    {
      "cell_type": "code",
      "metadata": {
        "id": "oNO5iHrUWnzt",
        "colab": {
          "base_uri": "https://localhost:8080/"
        },
        "outputId": "516a332a-09f9-42b5-fceb-c4ed27f99122"
      },
      "source": [
        "# Menghitung persentase missing value\n",
        "\n",
        "1933/16121412"
      ],
      "execution_count": 28,
      "outputs": [
        {
          "output_type": "execute_result",
          "data": {
            "text/plain": [
              "0.0001199026487258064"
            ]
          },
          "metadata": {},
          "execution_count": 28
        }
      ]
    },
    {
      "cell_type": "markdown",
      "metadata": {
        "id": "oKItxnWvVO-3"
      },
      "source": [
        "Karena missing value di variabel precip_depth_1_hr masih ada bahkan setelah dilakukan imputasi, maka row yang memuat missing value tersebut akan di drop. Karena jumlahnya sedikit (hanya 0.0001% dari total seluruh pengamatan), maka hal ini tidak akan terlalu memengaruhi hasil akhir secara keseluruhan, dan data yang tersisa masih cukup representatif."
      ]
    },
    {
      "cell_type": "code",
      "metadata": {
        "id": "ITfpQ4cJW9-h"
      },
      "source": [
        "# Men-drop row dengan missing value\n",
        "\n",
        "df_total.dropna(inplace = True)"
      ],
      "execution_count": 29,
      "outputs": []
    },
    {
      "cell_type": "code",
      "metadata": {
        "id": "8fH6o20jXRqP",
        "colab": {
          "base_uri": "https://localhost:8080/"
        },
        "outputId": "ddce83d7-77c1-4493-f298-469d45a48d21"
      },
      "source": [
        "# Memeriksa jumlah missing value setelah imputasi dan drop\n",
        "\n",
        "df_total.isnull().sum()"
      ],
      "execution_count": 30,
      "outputs": [
        {
          "output_type": "execute_result",
          "data": {
            "text/plain": [
              "building_id           0\n",
              "meter                 0\n",
              "timestamp             0\n",
              "meter_reading         0\n",
              "site_id               0\n",
              "primary_use           0\n",
              "square_feet           0\n",
              "air_temperature       0\n",
              "cloud_coverage        0\n",
              "dew_temperature       0\n",
              "precip_depth_1_hr     0\n",
              "sea_level_pressure    0\n",
              "wind_direction        0\n",
              "wind_speed            0\n",
              "hour                  0\n",
              "month                 0\n",
              "day_name              0\n",
              "natural_log           0\n",
              "dtype: int64"
            ]
          },
          "metadata": {},
          "execution_count": 30
        }
      ]
    },
    {
      "cell_type": "markdown",
      "metadata": {
        "id": "1YCuJ_eHXYem"
      },
      "source": [
        "Catatan :\n",
        "Pada variabel meter_reading, terlihat seolah-olah tidak ada missing value. Akan tetapi, jika diperhatikan lebih lanjut, ada beberapa missing value sebagai berikut:\n",
        "1.   Data hilang 3-5 bulan pertama (Januari - Juni 2016)\n",
        "2.   Data hilang di tengah-tengah\n",
        "\n"
      ]
    },
    {
      "cell_type": "code",
      "metadata": {
        "id": "kQh1Z39x3ov_",
        "colab": {
          "base_uri": "https://localhost:8080/",
          "height": 296
        },
        "outputId": "a4c1a468-b9d7-4698-e18d-5bdb23781566"
      },
      "source": [
        "# Hilangnya data 5 bulan pertama di beberapa gedung (Contoh : gedung 1, gedung 5, gedung 100) \n",
        "df3_1 = df3.loc[(df3.building_id == 1)]\n",
        "sns.lineplot(x = 'timestamp', y = 'meter_reading', data = df3_1)"
      ],
      "execution_count": null,
      "outputs": [
        {
          "output_type": "execute_result",
          "data": {
            "text/plain": [
              "<matplotlib.axes._subplots.AxesSubplot at 0x7f8a81aa58d0>"
            ]
          },
          "metadata": {},
          "execution_count": 36
        },
        {
          "output_type": "display_data",
          "data": {
            "image/png": "[encoded data removed]",
            "text/plain": [
              "<Figure size 432x288 with 1 Axes>"
            ]
          },
          "metadata": {
            "needs_background": "light"
          }
        }
      ]
    },
    {
      "cell_type": "code",
      "metadata": {
        "id": "e1GdXRGBYnSr",
        "colab": {
          "base_uri": "https://localhost:8080/",
          "height": 296
        },
        "outputId": "0d66b0fa-4974-4062-acd3-0109534f3565"
      },
      "source": [
        "df3_5 = df3.loc[(df3.building_id == 5)] \n",
        "sns.lineplot(x = 'timestamp', y = 'meter_reading', data = df3_5)"
      ],
      "execution_count": null,
      "outputs": [
        {
          "output_type": "execute_result",
          "data": {
            "text/plain": [
              "<matplotlib.axes._subplots.AxesSubplot at 0x7f8a12f375d0>"
            ]
          },
          "metadata": {},
          "execution_count": 37
        },
        {
          "output_type": "display_data",
          "data": {
            "image/png": "[encoded data removed]",
            "text/plain": [
              "<Figure size 432x288 with 1 Axes>"
            ]
          },
          "metadata": {
            "needs_background": "light"
          }
        }
      ]
    },
    {
      "cell_type": "code",
      "metadata": {
        "id": "WRg_JAo5ZP8S",
        "colab": {
          "base_uri": "https://localhost:8080/",
          "height": 296
        },
        "outputId": "bae1d1db-56a8-464e-e230-fe62fc89780d"
      },
      "source": [
        "df3_100 = df3.loc[(df3.building_id == 100)]\n",
        "sns.lineplot(x = 'timestamp', y = 'meter_reading', data = df3_100)"
      ],
      "execution_count": null,
      "outputs": [
        {
          "output_type": "execute_result",
          "data": {
            "text/plain": [
              "<matplotlib.axes._subplots.AxesSubplot at 0x7f8a13461310>"
            ]
          },
          "metadata": {},
          "execution_count": 38
        },
        {
          "output_type": "display_data",
          "data": {
            "image/png": "[encoded data removed]",
            "text/plain": [
              "<Figure size 432x288 with 1 Axes>"
            ]
          },
          "metadata": {
            "needs_background": "light"
          }
        }
      ]
    },
    {
      "cell_type": "code",
      "metadata": {
        "id": "Pe-4U2olaiTO",
        "colab": {
          "base_uri": "https://localhost:8080/",
          "height": 299
        },
        "outputId": "938d2c77-b578-471f-d1e5-a817c18fcadb"
      },
      "source": [
        "# Hilangnya data di tengah-tengah tahun (Contoh : gedung 1012) \n",
        "df3_1012 = df3.loc[(df3.building_id == 1012)]\n",
        "sns.lineplot(x = 'timestamp', y = 'meter_reading', data = df3_1012)"
      ],
      "execution_count": null,
      "outputs": [
        {
          "output_type": "execute_result",
          "data": {
            "text/plain": [
              "<matplotlib.axes._subplots.AxesSubplot at 0x7f8a0157f210>"
            ]
          },
          "metadata": {},
          "execution_count": 39
        },
        {
          "output_type": "display_data",
          "data": {
            "image/png": "[encoded data removed]",
            "text/plain": [
              "<Figure size 432x288 with 1 Axes>"
            ]
          },
          "metadata": {
            "needs_background": "light"
          }
        }
      ]
    },
    {
      "cell_type": "markdown",
      "metadata": {
        "id": "Z3uiX_ykeqia"
      },
      "source": [
        "Karena tidak diketahui dengan pasti gedung berapa saja yang memiliki missing value di waktu apa saja, maka proses imputasi untuk missing value meter_reading harus dilakukan satu per satu. Proses tersebut cukup memakan waktu dan memori, karena ada lebih dari 1000 gedung, sehingga untuk saat ini akan dibiarkan saja. Jika memungkinkan, alangkah baiknya jika missing value pada meter_reading tersebut diimputasi satu per satu untuk meminimalkan bias yang mungkin terjadi."
      ]
    },
    {
      "cell_type": "markdown",
      "metadata": {
        "id": "DYeG6Pe13vD3"
      },
      "source": [
        "# **Statistik Deskriptif, Visualisasi dan Insight Data**"
      ]
    },
    {
      "cell_type": "code",
      "metadata": {
        "id": "5ER4sS1smbZr",
        "colab": {
          "base_uri": "https://localhost:8080/",
          "height": 317
        },
        "outputId": "ef6712e2-bf9b-4bad-f026-965503c7efdd"
      },
      "source": [
        "# Statistik Deskriptif\n",
        "\n",
        "df_total.describe()"
      ],
      "execution_count": 31,
      "outputs": [
        {
          "output_type": "execute_result",
          "data": {
            "text/html": [
              "<div>\n",
              "<style scoped>\n",
              "    .dataframe tbody tr th:only-of-type {\n",
              "        vertical-align: middle;\n",
              "    }\n",
              "\n",
              "    .dataframe tbody tr th {\n",
              "        vertical-align: top;\n",
              "    }\n",
              "\n",
              "    .dataframe thead th {\n",
              "        text-align: right;\n",
              "    }\n",
              "</style>\n",
              "<table border=\"1\" class=\"dataframe\">\n",
              "  <thead>\n",
              "    <tr style=\"text-align: right;\">\n",
              "      <th></th>\n",
              "      <th>meter_reading</th>\n",
              "      <th>square_feet</th>\n",
              "      <th>air_temperature</th>\n",
              "      <th>dew_temperature</th>\n",
              "      <th>precip_depth_1_hr</th>\n",
              "      <th>sea_level_pressure</th>\n",
              "      <th>wind_direction</th>\n",
              "      <th>wind_speed</th>\n",
              "      <th>hour</th>\n",
              "      <th>month</th>\n",
              "      <th>natural_log</th>\n",
              "    </tr>\n",
              "  </thead>\n",
              "  <tbody>\n",
              "    <tr>\n",
              "      <th>count</th>\n",
              "      <td>1.611948e+07</td>\n",
              "      <td>1.611948e+07</td>\n",
              "      <td>1.611948e+07</td>\n",
              "      <td>1.611948e+07</td>\n",
              "      <td>1.611948e+07</td>\n",
              "      <td>1.611948e+07</td>\n",
              "      <td>1.611948e+07</td>\n",
              "      <td>1.611948e+07</td>\n",
              "      <td>1.611948e+07</td>\n",
              "      <td>1.611948e+07</td>\n",
              "      <td>1.611948e+07</td>\n",
              "    </tr>\n",
              "    <tr>\n",
              "      <th>mean</th>\n",
              "      <td>1.122164e+02</td>\n",
              "      <td>7.372967e+04</td>\n",
              "      <td>1.665498e+01</td>\n",
              "      <td>8.275324e+00</td>\n",
              "      <td>7.795744e-01</td>\n",
              "      <td>1.016209e+03</td>\n",
              "      <td>1.715592e+02</td>\n",
              "      <td>3.266147e+00</td>\n",
              "      <td>1.144236e+01</td>\n",
              "      <td>6.590329e+00</td>\n",
              "      <td>3.662333e+00</td>\n",
              "    </tr>\n",
              "    <tr>\n",
              "      <th>std</th>\n",
              "      <td>1.405028e+02</td>\n",
              "      <td>5.874809e+04</td>\n",
              "      <td>1.024775e+01</td>\n",
              "      <td>9.569726e+00</td>\n",
              "      <td>7.281317e+00</td>\n",
              "      <td>6.294487e+00</td>\n",
              "      <td>1.123208e+02</td>\n",
              "      <td>2.082789e+00</td>\n",
              "      <td>6.934830e+00</td>\n",
              "      <td>3.388468e+00</td>\n",
              "      <td>1.824959e+00</td>\n",
              "    </tr>\n",
              "    <tr>\n",
              "      <th>min</th>\n",
              "      <td>0.000000e+00</td>\n",
              "      <td>2.830000e+02</td>\n",
              "      <td>-1.530000e+01</td>\n",
              "      <td>-2.010000e+01</td>\n",
              "      <td>-1.000000e+00</td>\n",
              "      <td>9.983000e+02</td>\n",
              "      <td>0.000000e+00</td>\n",
              "      <td>0.000000e+00</td>\n",
              "      <td>0.000000e+00</td>\n",
              "      <td>1.000000e+00</td>\n",
              "      <td>0.000000e+00</td>\n",
              "    </tr>\n",
              "    <tr>\n",
              "      <th>25%</th>\n",
              "      <td>1.365000e+01</td>\n",
              "      <td>2.603300e+04</td>\n",
              "      <td>9.400000e+00</td>\n",
              "      <td>1.100000e+00</td>\n",
              "      <td>0.000000e+00</td>\n",
              "      <td>1.011921e+03</td>\n",
              "      <td>8.000000e+01</td>\n",
              "      <td>2.100000e+00</td>\n",
              "      <td>5.000000e+00</td>\n",
              "      <td>4.000000e+00</td>\n",
              "      <td>2.684440e+00</td>\n",
              "    </tr>\n",
              "    <tr>\n",
              "      <th>50%</th>\n",
              "      <td>5.502000e+01</td>\n",
              "      <td>5.920000e+04</td>\n",
              "      <td>1.720000e+01</td>\n",
              "      <td>9.000000e+00</td>\n",
              "      <td>0.000000e+00</td>\n",
              "      <td>1.016200e+03</td>\n",
              "      <td>1.700000e+02</td>\n",
              "      <td>3.100000e+00</td>\n",
              "      <td>1.100000e+01</td>\n",
              "      <td>7.000000e+00</td>\n",
              "      <td>4.025709e+00</td>\n",
              "    </tr>\n",
              "    <tr>\n",
              "      <th>75%</th>\n",
              "      <td>1.550930e+02</td>\n",
              "      <td>1.051670e+05</td>\n",
              "      <td>2.440000e+01</td>\n",
              "      <td>1.610000e+01</td>\n",
              "      <td>0.000000e+00</td>\n",
              "      <td>1.020400e+03</td>\n",
              "      <td>2.700000e+02</td>\n",
              "      <td>4.600000e+00</td>\n",
              "      <td>1.700000e+01</td>\n",
              "      <td>1.000000e+01</td>\n",
              "      <td>5.050452e+00</td>\n",
              "    </tr>\n",
              "    <tr>\n",
              "      <th>max</th>\n",
              "      <td>6.425100e+02</td>\n",
              "      <td>2.529520e+05</td>\n",
              "      <td>4.440000e+01</td>\n",
              "      <td>2.610000e+01</td>\n",
              "      <td>3.430000e+02</td>\n",
              "      <td>1.034300e+03</td>\n",
              "      <td>3.600000e+02</td>\n",
              "      <td>9.300000e+00</td>\n",
              "      <td>2.300000e+01</td>\n",
              "      <td>1.200000e+01</td>\n",
              "      <td>6.466938e+00</td>\n",
              "    </tr>\n",
              "  </tbody>\n",
              "</table>\n",
              "</div>"
            ],
            "text/plain": [
              "       meter_reading   square_feet  ...         month   natural_log\n",
              "count   1.611948e+07  1.611948e+07  ...  1.611948e+07  1.611948e+07\n",
              "mean    1.122164e+02  7.372967e+04  ...  6.590329e+00  3.662333e+00\n",
              "std     1.405028e+02  5.874809e+04  ...  3.388468e+00  1.824959e+00\n",
              "min     0.000000e+00  2.830000e+02  ...  1.000000e+00  0.000000e+00\n",
              "25%     1.365000e+01  2.603300e+04  ...  4.000000e+00  2.684440e+00\n",
              "50%     5.502000e+01  5.920000e+04  ...  7.000000e+00  4.025709e+00\n",
              "75%     1.550930e+02  1.051670e+05  ...  1.000000e+01  5.050452e+00\n",
              "max     6.425100e+02  2.529520e+05  ...  1.200000e+01  6.466938e+00\n",
              "\n",
              "[8 rows x 11 columns]"
            ]
          },
          "metadata": {},
          "execution_count": 31
        }
      ]
    },
    {
      "cell_type": "code",
      "metadata": {
        "id": "UtVC0dtg30q4",
        "colab": {
          "base_uri": "https://localhost:8080/",
          "height": 676
        },
        "outputId": "6aec7440-bf27-4be9-d33f-97fdae5c98e0"
      },
      "source": [
        "# Cek korelasi\n",
        "\n",
        "corr2 = df_total.corr()\n",
        "plt.figure(figsize=(12, 10))\n",
        "sns.heatmap(corr2[(corr2 >= 0.5) | (corr2 <= -0.5)],\n",
        "            cmap='viridis', vmax=1.0, vmin=-1.0, linewidths=0.1,\n",
        "            annot=True, annot_kws={\"size\": 14}, square=True);"
      ],
      "execution_count": null,
      "outputs": [
        {
          "output_type": "display_data",
          "data": {
            "image/png": "[encoded data removed]",
            "text/plain": [
              "<Figure size 864x720 with 2 Axes>"
            ]
          },
          "metadata": {
            "needs_background": "light"
          }
        }
      ]
    },
    {
      "cell_type": "markdown",
      "metadata": {
        "id": "yrCuVSnSizMX"
      },
      "source": [
        "Dari plot di atas, dapat terlihat bahwa variabel air_temperature dan dew_temperature memiliki korelasi yang cukup kuat, yaitu 0.69. Ini mengindikasikan adanya multikolinearitas antara kedua variabel tersebut, yang perlu diperhatikan saat nanti hendak membuat model."
      ]
    },
    {
      "cell_type": "code",
      "metadata": {
        "id": "e45wpFTp3zTc",
        "colab": {
          "base_uri": "https://localhost:8080/",
          "height": 296
        },
        "outputId": "657a5ab3-2457-4115-8293-3a5ecd53bd4a"
      },
      "source": [
        "# Melihat penggunaan energi per jam \n",
        "\n",
        "sns.lineplot(x = \"hour\", y = \"natural_log\", data = df_total)"
      ],
      "execution_count": null,
      "outputs": [
        {
          "output_type": "execute_result",
          "data": {
            "text/plain": [
              "<matplotlib.axes._subplots.AxesSubplot at 0x7f74e5d30950>"
            ]
          },
          "metadata": {},
          "execution_count": 30
        },
        {
          "output_type": "display_data",
          "data": {
            "image/png": "[encoded data removed]",
            "text/plain": [
              "<Figure size 432x288 with 1 Axes>"
            ]
          },
          "metadata": {
            "needs_background": "light"
          }
        }
      ]
    },
    {
      "cell_type": "markdown",
      "metadata": {
        "id": "nu5HRz2GlRDe"
      },
      "source": [
        "Dari plot di atas, dapat dilihat bahwa ada kecenderungan rata-rata pemakaian energi naik mulai jam 5 pagi ke atas, dan mencapai puncaknya pada siang hari (sekitar pukul 11.00 sampai 15.00). Pemakaian energi cenderung menurun setelah melewati pukul 15.00, dan mencapai titik terendahnya pada pukul 3 dini hari."
      ]
    },
    {
      "cell_type": "code",
      "metadata": {
        "id": "936_Cd9mjMkw",
        "colab": {
          "base_uri": "https://localhost:8080/",
          "height": 297
        },
        "outputId": "21310303-4ccf-4467-9697-dcd0ebf73cea"
      },
      "source": [
        "# Penggunaan energi per hari dalam seminggu\n",
        "\n",
        "sns.boxplot(x = 'day_name', y = 'natural_log', data = df_total, palette = 'rainbow')"
      ],
      "execution_count": null,
      "outputs": [
        {
          "output_type": "execute_result",
          "data": {
            "text/plain": [
              "<matplotlib.axes._subplots.AxesSubplot at 0x7faf20184510>"
            ]
          },
          "metadata": {},
          "execution_count": 29
        },
        {
          "output_type": "display_data",
          "data": {
            "image/png": "[encoded data removed]",
            "text/plain": [
              "<Figure size 432x288 with 1 Axes>"
            ]
          },
          "metadata": {
            "needs_background": "light"
          }
        }
      ]
    },
    {
      "cell_type": "markdown",
      "metadata": {
        "id": "FbwcET31nLLQ"
      },
      "source": [
        "Dari plot di atas, pemakaian energi pada hari sabtu dan minggu sedikit lebih rendah daripada hari-hari lainnya. Ini adalah hal yang wajar, mengingat sabtu dan minggu adalah *weekend* dan kebanyakan kantor/sekolah/institusi tidak beroperasi."
      ]
    },
    {
      "cell_type": "code",
      "metadata": {
        "colab": {
          "base_uri": "https://localhost:8080/",
          "height": 296
        },
        "id": "3wIejtcNdcIy",
        "outputId": "b3f8a467-c99c-4f50-ec21-72ee8dcfb579"
      },
      "source": [
        "# Melihat pemakaian energi untuk meter 0 (Electricity)\n",
        "\n",
        "df_total.loc[(df_total.meter == 0)]\n",
        "sns.lineplot(x = 'timestamp', y = 'meter_reading', data = df_total.loc[(df_total.meter == 0)])"
      ],
      "execution_count": null,
      "outputs": [
        {
          "output_type": "execute_result",
          "data": {
            "text/plain": [
              "<matplotlib.axes._subplots.AxesSubplot at 0x7faf1817bbd0>"
            ]
          },
          "metadata": {},
          "execution_count": 31
        },
        {
          "output_type": "display_data",
          "data": {
            "image/png": "[encoded data removed]",
            "text/plain": [
              "<Figure size 432x288 with 1 Axes>"
            ]
          },
          "metadata": {
            "needs_background": "light"
          }
        }
      ]
    },
    {
      "cell_type": "markdown",
      "metadata": {
        "id": "2n-01is9fqNY"
      },
      "source": [
        "Dari plot di atas diketahui bahwa pemakaian energi untuk listrik dari semua gedung pada 5 bulan pertama cenderung lebih rendah. Hal ini dicurigai disebabkan oleh banyaknya missing value pada 5 bulan pertama pada meter 0 (yang diketahui setelah menjalankan plot meter 0 untuk beberapa gedung)."
      ]
    },
    {
      "cell_type": "code",
      "metadata": {
        "colab": {
          "base_uri": "https://localhost:8080/",
          "height": 296
        },
        "id": "BZaCFFiud7BZ",
        "outputId": "ee257001-2c0b-408e-ede6-60dadefa0713"
      },
      "source": [
        "# Melihat pemakaian energi untuk meter 1 (Chilled Water)\n",
        "\n",
        "sns.lineplot(x = 'timestamp', y = 'meter_reading', data = df_total.loc[(df_total.meter == 1)])"
      ],
      "execution_count": null,
      "outputs": [
        {
          "output_type": "execute_result",
          "data": {
            "text/plain": [
              "<matplotlib.axes._subplots.AxesSubplot at 0x7faf201f0b50>"
            ]
          },
          "metadata": {},
          "execution_count": 33
        },
        {
          "output_type": "display_data",
          "data": {
            "image/png": "[encoded data removed]",
            "text/plain": [
              "<Figure size 432x288 with 1 Axes>"
            ]
          },
          "metadata": {
            "needs_background": "light"
          }
        }
      ]
    },
    {
      "cell_type": "markdown",
      "metadata": {
        "id": "AQzmCxg4guiA"
      },
      "source": [
        "Dari plot di atas, terlihat bahwa pemakaian energi tertinggi untuk air dingin (chilled water) kira-kira jatuh pada bulan 7 sampai 9. Bulan 7 sampai 9 merupakan musim panas di Amerika, sehingga wajar jika pemakaian air dingin meningkat. Pemakaian energi terendah ada pada bulan 12 sampai bulan 2. Bulan 12 sampai bulan 2 merupakan musim dingin di Amerika, sehingga air dingin tidak terlalu dibutuhkan."
      ]
    },
    {
      "cell_type": "code",
      "metadata": {
        "id": "jXBALlY2gUw0",
        "colab": {
          "base_uri": "https://localhost:8080/",
          "height": 296
        },
        "outputId": "149edc8c-fe16-4d9e-9adc-4d5337266662"
      },
      "source": [
        "# Melihat pemakaian energi untuk meter 2 (Steam)\n",
        "\n",
        "sns.lineplot(x = 'timestamp', y = 'meter_reading', data = df_total.loc[(df_total.meter == 2)])"
      ],
      "execution_count": null,
      "outputs": [
        {
          "output_type": "execute_result",
          "data": {
            "text/plain": [
              "<matplotlib.axes._subplots.AxesSubplot at 0x7faf20318990>"
            ]
          },
          "metadata": {},
          "execution_count": 34
        },
        {
          "output_type": "display_data",
          "data": {
            "image/png": "[encoded data removed]",
            "text/plain": [
              "<Figure size 432x288 with 1 Axes>"
            ]
          },
          "metadata": {
            "needs_background": "light"
          }
        }
      ]
    },
    {
      "cell_type": "markdown",
      "metadata": {
        "id": "iUffvOT2i93E"
      },
      "source": [
        "Jika dibandingkan dengan kedua plot sebelumnya, plot pertama berada di range 60 sampai 140, plot kedua berada di 50 sampai 250, sementara plot ketiga berada di range 100 sampai 300. Dengan demikian, pemakaian energi untuk steam cenderung lebih tinggi jika dibandingkan dengan listrik dan air dingin. Jika range pemakaian energi untuk air panas di bawah 100 sampai 300, maka steam memiliki kecenderungan untuk menjadi kebutuhan yang paling menghabiskan energi dari keempat jenis meter. Pemakaian energi yang tinggi ini kemungkinan disebabkan karena steam merupakan alat multifungsi yang biasa dipakai di gedung-gedung untuk menghangatkan atau mendinginkan udara, serta dapat digunakan pula untuk proses sterilisasi di rumah sakit dan pabrik-pabrik.  "
      ]
    },
    {
      "cell_type": "code",
      "metadata": {
        "colab": {
          "base_uri": "https://localhost:8080/",
          "height": 296
        },
        "id": "yUr-fOfohh1J",
        "outputId": "7ec9f034-6736-43be-c217-f2593dc78016"
      },
      "source": [
        "# Melihat pemakaian energi untuk meter 3 (Hot Water)\n",
        "\n",
        "sns.lineplot(x = 'timestamp', y = 'meter_reading', data = df_total.loc[(df_total.meter == 3)])"
      ],
      "execution_count": null,
      "outputs": [
        {
          "output_type": "execute_result",
          "data": {
            "text/plain": [
              "<matplotlib.axes._subplots.AxesSubplot at 0x7faf1af06290>"
            ]
          },
          "metadata": {},
          "execution_count": 35
        },
        {
          "output_type": "display_data",
          "data": {
            "image/png": "[encoded data removed]",
            "text/plain": [
              "<Figure size 432x288 with 1 Axes>"
            ]
          },
          "metadata": {
            "needs_background": "light"
          }
        }
      ]
    },
    {
      "cell_type": "markdown",
      "metadata": {
        "id": "hKFV2mH1jw1g"
      },
      "source": [
        "Dari plot di atas, dapat terlihat bahwa pemakaian energi untuk air panas pada bulan 11 sampai bulan 3 lebih tinggi daripada pemakaian energi untuk air panas pada bulan 5 sampai bulan 9. Kemungkinan besar ini disebabkan karena bulan 11 sampai dengan bulan 2 merupakan musim dingin di Amerika, sehingga pemakaian air panas meningkat. Begitu pula dengan bulan 7 sampai bulan 9 yang merupakan musim panas, sehingga pemakaian air panas pun menurun."
      ]
    },
    {
      "cell_type": "code",
      "metadata": {
        "id": "Wcm1cJQhvXek",
        "colab": {
          "base_uri": "https://localhost:8080/",
          "height": 297
        },
        "outputId": "b9f269d0-ba84-461f-deab-5eb979e08d21"
      },
      "source": [
        "# Menghitung rata-rata pemakaian energi per primary_use\n",
        "\n",
        "df_primary_use = df_total.groupby('primary_use').aggregate({'meter_reading':np.mean})\n",
        "df_primary_use.reset_index(inplace = True)\n",
        "sns.barplot(x = 'meter_reading', y = 'primary_use', data = df_primary_use)"
      ],
      "execution_count": null,
      "outputs": [
        {
          "output_type": "execute_result",
          "data": {
            "text/plain": [
              "<matplotlib.axes._subplots.AxesSubplot at 0x7faf20328ad0>"
            ]
          },
          "metadata": {},
          "execution_count": 30
        },
        {
          "output_type": "display_data",
          "data": {
            "image/png": "[encoded data removed]",
            "text/plain": [
              "<Figure size 432x288 with 1 Axes>"
            ]
          },
          "metadata": {
            "needs_background": "light"
          }
        }
      ]
    },
    {
      "cell_type": "markdown",
      "metadata": {
        "id": "fZZApRPs870f"
      },
      "source": [
        "Religious worship atau tempat ibadah merupakan penggunaan gedung yang paling sedikit memakai energi, karena tempat ibadah tidak beroperasi setiap hari, hanya di hari-hari tertentu saja (misalnya gereja, tempat ibadah paling umum di Amerika, beroperasi secara aktif di hari Sabtu dan Minggu). \n",
        "\n",
        "Penggunaan gedung yang paling banyak memakai energi adalah utility (perusahaan air, gas, atau listrik), healthcare, education, food sales/service dan manufacturing/industrial (untuk proses produksi seperti pabrik). Gedung-gedung yang digunakan untuk kebutuhan tersebut merupakan gedung-gedung yang waktu aktifnya lama (misalnya rumah sakit beroperasi 24 jam, sekolah dan pabrik beroperasi dari pagi hingga sore, dan tempat makan bisa beroperasi sampai malam) sehingga tidak mengherankan jika pemakaian energinya lebih banyak daripada gedung yang digunakan untuk kebutuhan lain. \n",
        "\n",
        "Selain itu, gedung-gedung dengan penggunaan tersebut juga umumnya menggunakan steam, yang dicurigai merupakan penyebab pemakaian energi terbesar."
      ]
    },
    {
      "cell_type": "code",
      "metadata": {
        "colab": {
          "base_uri": "https://localhost:8080/"
        },
        "id": "dIzs-eXBE6kI",
        "outputId": "bfe13ca0-8394-485d-947e-532a6b7270fe"
      },
      "source": [
        "# Banyaknya data per site_id\n",
        "\n",
        "df1['site_id'].value_counts()"
      ],
      "execution_count": 48,
      "outputs": [
        {
          "output_type": "execute_result",
          "data": {
            "text/plain": [
              "3     274\n",
              "13    154\n",
              "2     135\n",
              "15    124\n",
              "9     124\n",
              "0     105\n",
              "14    102\n",
              "4      91\n",
              "5      89\n",
              "8      70\n",
              "1      51\n",
              "6      44\n",
              "12     36\n",
              "10     30\n",
              "7      15\n",
              "11      5\n",
              "Name: site_id, dtype: int64"
            ]
          },
          "metadata": {},
          "execution_count": 48
        }
      ]
    },
    {
      "cell_type": "code",
      "metadata": {
        "colab": {
          "base_uri": "https://localhost:8080/",
          "height": 311
        },
        "id": "G_zpGuZZkuCv",
        "outputId": "786d441a-d336-44e6-a9e4-3c0c814023f5"
      },
      "source": [
        "# Pemakaian energi per site_id\n",
        "\n",
        "df_total.groupby(['site_id']).aggregate({'meter_reading':np.sum}).plot(kind = 'bar')"
      ],
      "execution_count": null,
      "outputs": [
        {
          "output_type": "execute_result",
          "data": {
            "text/plain": [
              "<matplotlib.axes._subplots.AxesSubplot at 0x7faf195f06d0>"
            ]
          },
          "metadata": {},
          "execution_count": 37
        },
        {
          "output_type": "display_data",
          "data": {
            "image/png": "[encoded data removed]",
            "text/plain": [
              "<Figure size 432x288 with 1 Axes>"
            ]
          },
          "metadata": {
            "needs_background": "light"
          }
        }
      ]
    },
    {
      "cell_type": "markdown",
      "metadata": {
        "id": "hYBW2wuBEhyR"
      },
      "source": [
        "Tempat yang lebih banyak mengonsumsi energi adalah tempat dengan kode site_id 2, 9, dan 14. Ketiga tempat tersebut memiliki >100 gedung, sehingga dicurgai merupakan daerah perkotaan. Keempat tempat lainnya yang memiliki gedung >100, yaitu site_id 13, 3, 15, dan 0, juga mengonsumsi energi relatif tinggi walaupun tidak setinggi ketiga tempat sebelumnya. Kemungkinan besar ketiga gedung sebelumnya berada di wilayah atau negara yang sama, karena perbedaan meter_reading yang cukup signifikan. Site 5, 7, 8, 10, 11, dan 12 mengonsumsi energi lebih sedikit dan memiliki jumlah gedung yang lebih sedikit pula, sehingga dicurigai wiliayah ini tidak terletak di pusat kota (mungkin pinggiran kota)."
      ]
    },
    {
      "cell_type": "code",
      "metadata": {
        "colab": {
          "base_uri": "https://localhost:8080/",
          "height": 529
        },
        "id": "xkXTdJ5zHMAK",
        "outputId": "3ea9cbf4-83f6-411b-f6d2-97d80816c909"
      },
      "source": [
        "# Membuat plot meter_reading dan square_feet\n",
        "\n",
        "sns.lineplot(x = 'square_feet', y = 'meter_reading', data = df_total)"
      ],
      "execution_count": 54,
      "outputs": [
        {
          "output_type": "execute_result",
          "data": {
            "text/plain": [
              "<matplotlib.axes._subplots.AxesSubplot at 0x7f676828fcd0>"
            ]
          },
          "metadata": {},
          "execution_count": 54
        },
        {
          "output_type": "display_data",
          "data": {
            "image/png": "[encoded data removed]",
            "text/plain": [
              "<Figure size 842.4x595.44 with 1 Axes>"
            ]
          },
          "metadata": {
            "needs_background": "light"
          }
        }
      ]
    },
    {
      "cell_type": "markdown",
      "metadata": {
        "id": "XA3gqJm9Piqz"
      },
      "source": [
        "Dari plot di atas, dapat terlihat bahwa pemakaian energi dan luas tanah kemungkinan berbanding lurus, karena semakin luas tanahnya, ada kecenderungan pemakaian energi juga naik. "
      ]
    },
    {
      "cell_type": "markdown",
      "metadata": {
        "id": "wD5dOYUiPB8u"
      },
      "source": [
        "## **Kesimpulan**\n",
        "\n",
        "*   Ada indikasi log(meter_reading) berdistribusi normal.\n",
        "*   Ada indikasi multikolinearitas antara variabel air_temperature dan dew_temperature.\n",
        "*   Pemakaian energi tertinggi cenderung terjadi pada siang hari (pukul 11.00 - 15.00) dan pemakaian energi terendah cenderung terjadi pada dini hari (pukul 3.00).\n",
        "*   Pemakaian energi pada hari sabtu dan minggu (weekend) cenderung lebih rendah daripada hari lainnya, meskipun demikian perbedaannya tidak terlalu signifikan.\n",
        "*   Pemakaian energi tertinggi secara umum digunakan untuk steam. \n",
        "*   Pemakaian energi untuk listrik pada 5 bulan pertama lebih rendah karena ada indikasi missing value.\n",
        "*   Pemakaian energi untuk air dingin cenderung naik saat bulan 7 sampai bulan 9, dan cenderung turun saat bulan 12 sampai bulan 2. Kemungkinan hal tersebut disebabkan karena bulan 7 sampai bulan 9 merupakan musim panas, sementara bulan 12 sampai bulan 2 merupakan musim dingin.\n",
        "*   Pemakaian energi untuk air panas cenderung naik saat bulan 11 sampai bulan 1, dan cenderung turun saat bulan 5 sampai bulan 9. Kemungkinan hal tersebut disebabkan karena bulan 5 sampai bulan 9 merupakan musim panas, sementara bulan 11 sampai bulan 1 merupakan musim dingin.\n",
        "*   Gedung yang dipakai sebagai tempat ibadah memakan energi paling sedikit jika dibandingkan dengan yang lainnya, kemungkinan disebabkan oleh waktu aktif beroperasi yang lebih singkat (hanya hari-hari tertentu saja).\n",
        "*   Gedung-gedung yang dipakai untuk utility (perusahaan air, gas, dan listrik), healthcare, education, food sales and service, serta manufacturing/industrial cenderung menggunakan energi lebih banyak, kemungkinan dikarenakan waktu aktif beroperasi yang cukup lama dan pemakaian steam yang cukup memakan energi.\n",
        "*   Gedung-gedung yang terletak di wilayah site_id 2, 9, dan 14 mengonsumsi energi lebih banyak daripada wilayah lainnya dan memiliki gedung >100, relatif lebih banyak daripada wilayah lainnya. Kemungkinan tiga wilayah ini merupakan pusat kota.\n",
        "*   Gedung-gedung yang terletak di wilayah site_id 5, 7, 8, 10, 11, dan 12 mengonsumsi energi lebih sedikit daripada wilayah lainnya dan memiliki gedung yang relatif lebih sedikit. Kemungkinan wilayah-wilayah ini adalah pinggiran kota.\n",
        "*   Ada kecenderungan pemakaian energi berbanding lurus dengan luas bangunan."
      ]
    }
  ]
}